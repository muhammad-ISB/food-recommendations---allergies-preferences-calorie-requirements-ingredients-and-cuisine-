{
  "cells": [
    {
      "cell_type": "markdown",
      "id": "98477bd1",
      "metadata": {
        "id": "98477bd1"
      },
      "source": [
        "# Code for reading data from raw excel/csv file and storing into SQL Database\n",
        "\n",
        "1. raw recipe dataset\n",
        "2. raw interaction dataset for above recipe data for user rating on food\n",
        "3. indian food dataset\n",
        "4. india food-101 dataset\n",
        "5. allergy dataset\n",
        "6. non-veg key words\n",
        "\n",
        "Note: making column name consistent in all tables"
      ]
    },
    {
      "cell_type": "code",
      "execution_count": null,
      "id": "ee6339c7",
      "metadata": {
        "id": "ee6339c7"
      },
      "outputs": [],
      "source": [
        "# import all common necessary packages\n",
        "import pandas as pd\n",
        "import numpy as np\n",
        "import json\n",
        "import re\n",
        "import ast\n",
        "\n",
        "# for postgres SQL database\n",
        "import psycopg2\n",
        "\n",
        "import warnings\n",
        "warnings.filterwarnings('ignore')"
      ]
    },
    {
      "cell_type": "markdown",
      "id": "d22cefd9",
      "metadata": {
        "id": "d22cefd9"
      },
      "source": [
        "### Configuration"
      ]
    },
    {
      "cell_type": "code",
      "execution_count": null,
      "id": "5ed393c5",
      "metadata": {
        "id": "5ed393c5"
      },
      "outputs": [],
      "source": [
        "import logging\n",
        "\n",
        "VERSION = \"v0.1.0\"\n",
        "RELEASE_DATE = \"16 Jan 2024\"\n",
        "\n",
        "##### DATABASE RELATED #####\n",
        "DB_CONFIG_LOCAL = {\n",
        "    \"dbname\": \"food_db\",\n",
        "    \"host\": \"localhost\",\n",
        "    \"port\": 5432,\n",
        "    \"username\": \"postgres\",\n",
        "    \"password\": \"postgres\"\n",
        "}\n",
        "\n",
        "DB_CONFIG_CLOUD = {\n",
        "    \"dbname\": \"food_db\",\n",
        "    \"host\": \"\",\n",
        "    \"port\": 5432,\n",
        "    \"username\": \"postgres\",\n",
        "    \"password\": \"\"\n",
        "}\n",
        "\n",
        "# select which database (local or cloud)\n",
        "DB_CONFIG = DB_CONFIG_LOCAL"
      ]
    },
    {
      "cell_type": "markdown",
      "id": "20edeb49",
      "metadata": {
        "id": "20edeb49"
      },
      "source": [
        "### Database Functions"
      ]
    },
    {
      "cell_type": "code",
      "execution_count": null,
      "id": "be7d2065",
      "metadata": {
        "id": "be7d2065"
      },
      "outputs": [],
      "source": [
        "class DatabaseAccess:\n",
        "    def __init__(self, db_config):\n",
        "        self.conn = psycopg2.connect(\n",
        "                            database=db_config['dbname'],\n",
        "                            user=db_config['username'],\n",
        "                            password=db_config['password'],\n",
        "                            host=db_config['host'],\n",
        "                            port=db_config['port'])\n",
        "    def getConnection(self):\n",
        "        return self.conn"
      ]
    },
    {
      "cell_type": "markdown",
      "id": "b9f568c4",
      "metadata": {
        "id": "b9f568c4"
      },
      "source": [
        "### Store RAW_recipes into Database"
      ]
    },
    {
      "cell_type": "code",
      "execution_count": null,
      "id": "f55d9f28",
      "metadata": {
        "id": "f55d9f28",
        "outputId": "6d6e851b-c68c-46f1-ad35-efa07e2a7a65"
      },
      "outputs": [
        {
          "name": "stdout",
          "output_type": "stream",
          "text": [
            "recipes shape:  (231637, 12)\n"
          ]
        }
      ],
      "source": [
        "df_recipes = pd.read_csv(\"./data/inputs/recipes_data/RAW_recipes.csv\")\n",
        "print(\"recipes shape: \", df_recipes.shape)"
      ]
    },
    {
      "cell_type": "code",
      "execution_count": null,
      "id": "28c5a915",
      "metadata": {
        "id": "28c5a915",
        "outputId": "760f4b93-368d-48e1-93a0-7eed9f84c386"
      },
      "outputs": [
        {
          "data": {
            "text/plain": [
              "Index(['name', 'id', 'minutes', 'contributor_id', 'submitted', 'tags',\n",
              "       'nutrition', 'n_steps', 'steps', 'description', 'ingredients',\n",
              "       'n_ingredients'],\n",
              "      dtype='object')"
            ]
          },
          "execution_count": 5,
          "metadata": {},
          "output_type": "execute_result"
        }
      ],
      "source": [
        "df_recipes.columns"
      ]
    },
    {
      "cell_type": "code",
      "execution_count": null,
      "id": "1a1821c7",
      "metadata": {
        "id": "1a1821c7",
        "outputId": "3086bc14-acd0-4b39-d125-492209a2268e"
      },
      "outputs": [
        {
          "data": {
            "text/html": [
              "<div>\n",
              "<style scoped>\n",
              "    .dataframe tbody tr th:only-of-type {\n",
              "        vertical-align: middle;\n",
              "    }\n",
              "\n",
              "    .dataframe tbody tr th {\n",
              "        vertical-align: top;\n",
              "    }\n",
              "\n",
              "    .dataframe thead th {\n",
              "        text-align: right;\n",
              "    }\n",
              "</style>\n",
              "<table border=\"1\" class=\"dataframe\">\n",
              "  <thead>\n",
              "    <tr style=\"text-align: right;\">\n",
              "      <th></th>\n",
              "      <th>name</th>\n",
              "      <th>id</th>\n",
              "      <th>minutes</th>\n",
              "      <th>contributor_id</th>\n",
              "      <th>submitted</th>\n",
              "      <th>tags</th>\n",
              "      <th>nutrition</th>\n",
              "      <th>n_steps</th>\n",
              "      <th>steps</th>\n",
              "      <th>description</th>\n",
              "      <th>ingredients</th>\n",
              "      <th>n_ingredients</th>\n",
              "    </tr>\n",
              "  </thead>\n",
              "  <tbody>\n",
              "    <tr>\n",
              "      <th>0</th>\n",
              "      <td>arriba   baked winter squash mexican style</td>\n",
              "      <td>137739</td>\n",
              "      <td>55</td>\n",
              "      <td>47892</td>\n",
              "      <td>2005-09-16</td>\n",
              "      <td>['60-minutes-or-less', 'time-to-make', 'course...</td>\n",
              "      <td>[51.5, 0.0, 13.0, 0.0, 2.0, 0.0, 4.0]</td>\n",
              "      <td>11</td>\n",
              "      <td>['make a choice and proceed with recipe', 'dep...</td>\n",
              "      <td>autumn is my favorite time of year to cook! th...</td>\n",
              "      <td>['winter squash', 'mexican seasoning', 'mixed ...</td>\n",
              "      <td>7</td>\n",
              "    </tr>\n",
              "    <tr>\n",
              "      <th>1</th>\n",
              "      <td>a bit different  breakfast pizza</td>\n",
              "      <td>31490</td>\n",
              "      <td>30</td>\n",
              "      <td>26278</td>\n",
              "      <td>2002-06-17</td>\n",
              "      <td>['30-minutes-or-less', 'time-to-make', 'course...</td>\n",
              "      <td>[173.4, 18.0, 0.0, 17.0, 22.0, 35.0, 1.0]</td>\n",
              "      <td>9</td>\n",
              "      <td>['preheat oven to 425 degrees f', 'press dough...</td>\n",
              "      <td>this recipe calls for the crust to be prebaked...</td>\n",
              "      <td>['prepared pizza crust', 'sausage patty', 'egg...</td>\n",
              "      <td>6</td>\n",
              "    </tr>\n",
              "    <tr>\n",
              "      <th>2</th>\n",
              "      <td>all in the kitchen  chili</td>\n",
              "      <td>112140</td>\n",
              "      <td>130</td>\n",
              "      <td>196586</td>\n",
              "      <td>2005-02-25</td>\n",
              "      <td>['time-to-make', 'course', 'preparation', 'mai...</td>\n",
              "      <td>[269.8, 22.0, 32.0, 48.0, 39.0, 27.0, 5.0]</td>\n",
              "      <td>6</td>\n",
              "      <td>['brown ground beef in large pot', 'add choppe...</td>\n",
              "      <td>this modified version of 'mom's' chili was a h...</td>\n",
              "      <td>['ground beef', 'yellow onions', 'diced tomato...</td>\n",
              "      <td>13</td>\n",
              "    </tr>\n",
              "    <tr>\n",
              "      <th>3</th>\n",
              "      <td>alouette  potatoes</td>\n",
              "      <td>59389</td>\n",
              "      <td>45</td>\n",
              "      <td>68585</td>\n",
              "      <td>2003-04-14</td>\n",
              "      <td>['60-minutes-or-less', 'time-to-make', 'course...</td>\n",
              "      <td>[368.1, 17.0, 10.0, 2.0, 14.0, 8.0, 20.0]</td>\n",
              "      <td>11</td>\n",
              "      <td>['place potatoes in a large pot of lightly sal...</td>\n",
              "      <td>this is a super easy, great tasting, make ahea...</td>\n",
              "      <td>['spreadable cheese with garlic and herbs', 'n...</td>\n",
              "      <td>11</td>\n",
              "    </tr>\n",
              "    <tr>\n",
              "      <th>4</th>\n",
              "      <td>amish  tomato ketchup  for canning</td>\n",
              "      <td>44061</td>\n",
              "      <td>190</td>\n",
              "      <td>41706</td>\n",
              "      <td>2002-10-25</td>\n",
              "      <td>['weeknight', 'time-to-make', 'course', 'main-...</td>\n",
              "      <td>[352.9, 1.0, 337.0, 23.0, 3.0, 0.0, 28.0]</td>\n",
              "      <td>5</td>\n",
              "      <td>['mix all ingredients&amp; boil for 2 1 / 2 hours ...</td>\n",
              "      <td>my dh's amish mother raised him on this recipe...</td>\n",
              "      <td>['tomato juice', 'apple cider vinegar', 'sugar...</td>\n",
              "      <td>8</td>\n",
              "    </tr>\n",
              "  </tbody>\n",
              "</table>\n",
              "</div>"
            ],
            "text/plain": [
              "                                         name      id  minutes  \\\n",
              "0  arriba   baked winter squash mexican style  137739       55   \n",
              "1            a bit different  breakfast pizza   31490       30   \n",
              "2                   all in the kitchen  chili  112140      130   \n",
              "3                          alouette  potatoes   59389       45   \n",
              "4          amish  tomato ketchup  for canning   44061      190   \n",
              "\n",
              "   contributor_id   submitted  \\\n",
              "0           47892  2005-09-16   \n",
              "1           26278  2002-06-17   \n",
              "2          196586  2005-02-25   \n",
              "3           68585  2003-04-14   \n",
              "4           41706  2002-10-25   \n",
              "\n",
              "                                                tags  \\\n",
              "0  ['60-minutes-or-less', 'time-to-make', 'course...   \n",
              "1  ['30-minutes-or-less', 'time-to-make', 'course...   \n",
              "2  ['time-to-make', 'course', 'preparation', 'mai...   \n",
              "3  ['60-minutes-or-less', 'time-to-make', 'course...   \n",
              "4  ['weeknight', 'time-to-make', 'course', 'main-...   \n",
              "\n",
              "                                    nutrition  n_steps  \\\n",
              "0       [51.5, 0.0, 13.0, 0.0, 2.0, 0.0, 4.0]       11   \n",
              "1   [173.4, 18.0, 0.0, 17.0, 22.0, 35.0, 1.0]        9   \n",
              "2  [269.8, 22.0, 32.0, 48.0, 39.0, 27.0, 5.0]        6   \n",
              "3   [368.1, 17.0, 10.0, 2.0, 14.0, 8.0, 20.0]       11   \n",
              "4   [352.9, 1.0, 337.0, 23.0, 3.0, 0.0, 28.0]        5   \n",
              "\n",
              "                                               steps  \\\n",
              "0  ['make a choice and proceed with recipe', 'dep...   \n",
              "1  ['preheat oven to 425 degrees f', 'press dough...   \n",
              "2  ['brown ground beef in large pot', 'add choppe...   \n",
              "3  ['place potatoes in a large pot of lightly sal...   \n",
              "4  ['mix all ingredients& boil for 2 1 / 2 hours ...   \n",
              "\n",
              "                                         description  \\\n",
              "0  autumn is my favorite time of year to cook! th...   \n",
              "1  this recipe calls for the crust to be prebaked...   \n",
              "2  this modified version of 'mom's' chili was a h...   \n",
              "3  this is a super easy, great tasting, make ahea...   \n",
              "4  my dh's amish mother raised him on this recipe...   \n",
              "\n",
              "                                         ingredients  n_ingredients  \n",
              "0  ['winter squash', 'mexican seasoning', 'mixed ...              7  \n",
              "1  ['prepared pizza crust', 'sausage patty', 'egg...              6  \n",
              "2  ['ground beef', 'yellow onions', 'diced tomato...             13  \n",
              "3  ['spreadable cheese with garlic and herbs', 'n...             11  \n",
              "4  ['tomato juice', 'apple cider vinegar', 'sugar...              8  "
            ]
          },
          "execution_count": 6,
          "metadata": {},
          "output_type": "execute_result"
        }
      ],
      "source": [
        "df_recipes.head()"
      ]
    },
    {
      "cell_type": "raw",
      "id": "9f07a203",
      "metadata": {
        "id": "9f07a203"
      },
      "source": [
        "# db schema for table: raw_recipies\n",
        "\n",
        "CREATE TABLE public.raw_recipies (\n",
        "\tfood_id integer NULL,\n",
        "\tfood_name text NULL,\n",
        "\tfood_description text NULL,\n",
        "\tingredients varchar(128)[],\n",
        "\tnutrition varchar(16)[],\n",
        "\tcreated_time timestamp NOT NULL DEFAULT CURRENT_TIMESTAMP\n",
        "\t);"
      ]
    },
    {
      "cell_type": "code",
      "execution_count": null,
      "id": "3781dbcf",
      "metadata": {
        "id": "3781dbcf"
      },
      "outputs": [],
      "source": [
        "# align with column name of database\n",
        "cols_rename = {\n",
        "    \"id\": \"food_id\",\n",
        "    \"name\": \"food_name\",\n",
        "    \"description\": \"food_description\",\n",
        "    \"ingredients\": \"ingredients\",\n",
        "    \"nutrition\": \"nutrition\"\n",
        "}\n",
        "df_recipes.rename(columns=cols_rename, inplace=True)"
      ]
    },
    {
      "cell_type": "code",
      "execution_count": null,
      "id": "19bc20fe",
      "metadata": {
        "id": "19bc20fe"
      },
      "outputs": [],
      "source": [
        "# convert into proper datatype for storing into DB\n",
        "df_recipes['food_id'] = df_recipes['food_id'].astype(float)\n",
        "df_recipes['nutrition'] = df_recipes['nutrition'].apply(ast.literal_eval)\n",
        "df_recipes['ingredients'] = df_recipes['ingredients'].apply(ast.literal_eval)"
      ]
    },
    {
      "cell_type": "code",
      "execution_count": null,
      "id": "2fb7aa24",
      "metadata": {
        "id": "2fb7aa24"
      },
      "outputs": [],
      "source": [
        "# create database connection\n",
        "gbl_db_conn = DatabaseAccess(DB_CONFIG).getConnection()\n",
        "\n",
        "def raw_recipe_save_to_db(item):\n",
        "    global gbl_db_conn\n",
        "    try:\n",
        "        cur = gbl_db_conn.cursor()\n",
        "        cur.execute(\"INSERT INTO public.raw_recipies (food_id, food_name, food_description, ingredients, nutrition) \\\n",
        "                                                VALUES (%s, %s, %s, %s, %s)\", \\\n",
        "                                                (item.food_id, item.food_name, item.food_description, item.ingredients, item.nutrition))\n",
        "        gbl_db_conn.commit()\n",
        "    except (Exception, psycopg2.Error) as error:\n",
        "        print(\"Error inserting data: \", error)\n",
        "    finally:\n",
        "        cur.close()\n",
        "\n",
        "    return"
      ]
    },
    {
      "cell_type": "code",
      "execution_count": null,
      "id": "06cb6d21",
      "metadata": {
        "id": "06cb6d21"
      },
      "outputs": [],
      "source": [
        "# store all data into DB\n",
        "res = df_recipes.apply(raw_recipe_save_to_db, axis=1)"
      ]
    },
    {
      "cell_type": "code",
      "execution_count": null,
      "id": "1a24d0ef",
      "metadata": {
        "id": "1a24d0ef",
        "outputId": "858305a0-2eb1-4112-df68-acb16d336e0d"
      },
      "outputs": [
        {
          "name": "stdout",
          "output_type": "stream",
          "text": [
            "(231637, 6)\n"
          ]
        },
        {
          "data": {
            "text/html": [
              "<div>\n",
              "<style scoped>\n",
              "    .dataframe tbody tr th:only-of-type {\n",
              "        vertical-align: middle;\n",
              "    }\n",
              "\n",
              "    .dataframe tbody tr th {\n",
              "        vertical-align: top;\n",
              "    }\n",
              "\n",
              "    .dataframe thead th {\n",
              "        text-align: right;\n",
              "    }\n",
              "</style>\n",
              "<table border=\"1\" class=\"dataframe\">\n",
              "  <thead>\n",
              "    <tr style=\"text-align: right;\">\n",
              "      <th></th>\n",
              "      <th>food_id</th>\n",
              "      <th>food_name</th>\n",
              "      <th>food_description</th>\n",
              "      <th>ingredients</th>\n",
              "      <th>nutrition</th>\n",
              "      <th>created_time</th>\n",
              "    </tr>\n",
              "  </thead>\n",
              "  <tbody>\n",
              "    <tr>\n",
              "      <th>0</th>\n",
              "      <td>137739</td>\n",
              "      <td>arriba   baked winter squash mexican style</td>\n",
              "      <td>autumn is my favorite time of year to cook! th...</td>\n",
              "      <td>[winter squash, mexican seasoning, mixed spice...</td>\n",
              "      <td>[51.5, 0.0, 13.0, 0.0, 2.0, 0.0, 4.0]</td>\n",
              "      <td>2023-06-17 00:04:53.882478</td>\n",
              "    </tr>\n",
              "    <tr>\n",
              "      <th>1</th>\n",
              "      <td>31490</td>\n",
              "      <td>a bit different  breakfast pizza</td>\n",
              "      <td>this recipe calls for the crust to be prebaked...</td>\n",
              "      <td>[prepared pizza crust, sausage patty, eggs, mi...</td>\n",
              "      <td>[173.4, 18.0, 0.0, 17.0, 22.0, 35.0, 1.0]</td>\n",
              "      <td>2023-06-17 00:04:53.891878</td>\n",
              "    </tr>\n",
              "    <tr>\n",
              "      <th>2</th>\n",
              "      <td>112140</td>\n",
              "      <td>all in the kitchen  chili</td>\n",
              "      <td>this modified version of 'mom's' chili was a h...</td>\n",
              "      <td>[ground beef, yellow onions, diced tomatoes, t...</td>\n",
              "      <td>[269.8, 22.0, 32.0, 48.0, 39.0, 27.0, 5.0]</td>\n",
              "      <td>2023-06-17 00:04:53.892491</td>\n",
              "    </tr>\n",
              "    <tr>\n",
              "      <th>3</th>\n",
              "      <td>59389</td>\n",
              "      <td>alouette  potatoes</td>\n",
              "      <td>this is a super easy, great tasting, make ahea...</td>\n",
              "      <td>[spreadable cheese with garlic and herbs, new ...</td>\n",
              "      <td>[368.1, 17.0, 10.0, 2.0, 14.0, 8.0, 20.0]</td>\n",
              "      <td>2023-06-17 00:04:53.892945</td>\n",
              "    </tr>\n",
              "    <tr>\n",
              "      <th>4</th>\n",
              "      <td>44061</td>\n",
              "      <td>amish  tomato ketchup  for canning</td>\n",
              "      <td>my dh's amish mother raised him on this recipe...</td>\n",
              "      <td>[tomato juice, apple cider vinegar, sugar, sal...</td>\n",
              "      <td>[352.9, 1.0, 337.0, 23.0, 3.0, 0.0, 28.0]</td>\n",
              "      <td>2023-06-17 00:04:53.893248</td>\n",
              "    </tr>\n",
              "  </tbody>\n",
              "</table>\n",
              "</div>"
            ],
            "text/plain": [
              "   food_id                                   food_name  \\\n",
              "0   137739  arriba   baked winter squash mexican style   \n",
              "1    31490            a bit different  breakfast pizza   \n",
              "2   112140                   all in the kitchen  chili   \n",
              "3    59389                          alouette  potatoes   \n",
              "4    44061          amish  tomato ketchup  for canning   \n",
              "\n",
              "                                    food_description  \\\n",
              "0  autumn is my favorite time of year to cook! th...   \n",
              "1  this recipe calls for the crust to be prebaked...   \n",
              "2  this modified version of 'mom's' chili was a h...   \n",
              "3  this is a super easy, great tasting, make ahea...   \n",
              "4  my dh's amish mother raised him on this recipe...   \n",
              "\n",
              "                                         ingredients  \\\n",
              "0  [winter squash, mexican seasoning, mixed spice...   \n",
              "1  [prepared pizza crust, sausage patty, eggs, mi...   \n",
              "2  [ground beef, yellow onions, diced tomatoes, t...   \n",
              "3  [spreadable cheese with garlic and herbs, new ...   \n",
              "4  [tomato juice, apple cider vinegar, sugar, sal...   \n",
              "\n",
              "                                    nutrition               created_time  \n",
              "0       [51.5, 0.0, 13.0, 0.0, 2.0, 0.0, 4.0] 2023-06-17 00:04:53.882478  \n",
              "1   [173.4, 18.0, 0.0, 17.0, 22.0, 35.0, 1.0] 2023-06-17 00:04:53.891878  \n",
              "2  [269.8, 22.0, 32.0, 48.0, 39.0, 27.0, 5.0] 2023-06-17 00:04:53.892491  \n",
              "3   [368.1, 17.0, 10.0, 2.0, 14.0, 8.0, 20.0] 2023-06-17 00:04:53.892945  \n",
              "4   [352.9, 1.0, 337.0, 23.0, 3.0, 0.0, 28.0] 2023-06-17 00:04:53.893248  "
            ]
          },
          "execution_count": 11,
          "metadata": {},
          "output_type": "execute_result"
        }
      ],
      "source": [
        "# read db and validate stored dataset\n",
        "df_recipes_sql = pd.read_sql_query('select * from \"raw_recipies\"',con=gbl_db_conn)\n",
        "print(df_recipes_sql.shape)\n",
        "df_recipes_sql.head()"
      ]
    },
    {
      "cell_type": "code",
      "execution_count": null,
      "id": "9a265ad3",
      "metadata": {
        "id": "9a265ad3"
      },
      "outputs": [],
      "source": [
        "gbl_db_conn.close()"
      ]
    },
    {
      "cell_type": "markdown",
      "id": "a97f6ada",
      "metadata": {
        "id": "a97f6ada"
      },
      "source": [
        "### Store RAW_interactions into Database"
      ]
    },
    {
      "cell_type": "code",
      "execution_count": null,
      "id": "dadbb3f5",
      "metadata": {
        "id": "dadbb3f5",
        "outputId": "edd0a6fb-440c-4832-823e-7f6863b49950"
      },
      "outputs": [
        {
          "name": "stdout",
          "output_type": "stream",
          "text": [
            "users shape:  (1132367, 5)\n"
          ]
        }
      ],
      "source": [
        "df_users = pd.read_csv(\"./data/inputs/recipes_data/RAW_interactions.csv\")\n",
        "print(\"users shape: \", df_users.shape)"
      ]
    },
    {
      "cell_type": "code",
      "execution_count": null,
      "id": "aaf729ce",
      "metadata": {
        "id": "aaf729ce",
        "outputId": "a581be0e-4f33-4648-e0a0-97d8ecf0c423"
      },
      "outputs": [
        {
          "data": {
            "text/plain": [
              "Index(['user_id', 'recipe_id', 'date', 'rating', 'review'], dtype='object')"
            ]
          },
          "execution_count": 14,
          "metadata": {},
          "output_type": "execute_result"
        }
      ],
      "source": [
        "df_users.columns"
      ]
    },
    {
      "cell_type": "code",
      "execution_count": null,
      "id": "10b712e0",
      "metadata": {
        "id": "10b712e0"
      },
      "outputs": [],
      "source": [
        "# align with column name of database\n",
        "cols_rename = {\n",
        "    \"recipe_id\": \"food_id\"\n",
        "}\n",
        "df_users.rename(columns=cols_rename, inplace=True)"
      ]
    },
    {
      "cell_type": "raw",
      "id": "208993a9",
      "metadata": {
        "id": "208993a9"
      },
      "source": [
        "# db schema for table: raw_interactions\n",
        "\n",
        "CREATE TABLE public.raw_interactions (\n",
        "\tuser_id integer NOT NULL,\n",
        "\tfood_id integer NOT NULL,\n",
        "\trating integer NOT NULL,\n",
        "\treview text NULL,\n",
        "\t\"date\" DATE NULL,\n",
        "\tcreated_time timestamp NOT NULL DEFAULT CURRENT_TIMESTAMP\n",
        ");"
      ]
    },
    {
      "cell_type": "code",
      "execution_count": null,
      "id": "f18d7ffd",
      "metadata": {
        "id": "f18d7ffd"
      },
      "outputs": [],
      "source": [
        "# create database connection\n",
        "gbl_db_conn = DatabaseAccess(DB_CONFIG).getConnection()\n",
        "\n",
        "def raw_interactions_save_to_db(item):\n",
        "    global gbl_db_conn\n",
        "    try:\n",
        "        cur = gbl_db_conn.cursor()\n",
        "        cur.execute(\"INSERT INTO public.raw_interactions (user_id, food_id, rating, review, date) \\\n",
        "                                                VALUES (%s, %s, %s, %s, %s)\", \\\n",
        "                                                (item.user_id, item.food_id, item.rating, item.review, item.date))\n",
        "        gbl_db_conn.commit()\n",
        "    except (Exception, psycopg2.Error) as error:\n",
        "        print(\"Error inserting data: \", error)\n",
        "    finally:\n",
        "        cur.close()\n",
        "\n",
        "    return"
      ]
    },
    {
      "cell_type": "code",
      "execution_count": null,
      "id": "a7669378",
      "metadata": {
        "id": "a7669378"
      },
      "outputs": [],
      "source": [
        "# convert into proper datatype for storing into DB\n",
        "df_users['user_id'] = df_users['user_id'].astype(float)\n",
        "df_users['food_id'] = df_users['food_id'].astype(float)\n",
        "df_users['rating'] = df_users['rating'].astype(float)\n",
        "df_users['date'] = pd.to_datetime(df_users['date']).dt.date"
      ]
    },
    {
      "cell_type": "code",
      "execution_count": null,
      "id": "7192ac2d",
      "metadata": {
        "id": "7192ac2d"
      },
      "outputs": [],
      "source": [
        "# store all data into DB\n",
        "res = df_users.apply(raw_interactions_save_to_db, axis=1)"
      ]
    },
    {
      "cell_type": "code",
      "execution_count": null,
      "id": "db981f83",
      "metadata": {
        "id": "db981f83",
        "outputId": "1a4fdfaf-5b12-4b70-9820-233407fd02e6"
      },
      "outputs": [
        {
          "name": "stdout",
          "output_type": "stream",
          "text": [
            "(1132367, 6)\n"
          ]
        },
        {
          "data": {
            "text/html": [
              "<div>\n",
              "<style scoped>\n",
              "    .dataframe tbody tr th:only-of-type {\n",
              "        vertical-align: middle;\n",
              "    }\n",
              "\n",
              "    .dataframe tbody tr th {\n",
              "        vertical-align: top;\n",
              "    }\n",
              "\n",
              "    .dataframe thead th {\n",
              "        text-align: right;\n",
              "    }\n",
              "</style>\n",
              "<table border=\"1\" class=\"dataframe\">\n",
              "  <thead>\n",
              "    <tr style=\"text-align: right;\">\n",
              "      <th></th>\n",
              "      <th>user_id</th>\n",
              "      <th>food_id</th>\n",
              "      <th>rating</th>\n",
              "      <th>review</th>\n",
              "      <th>date</th>\n",
              "      <th>created_time</th>\n",
              "    </tr>\n",
              "  </thead>\n",
              "  <tbody>\n",
              "    <tr>\n",
              "      <th>0</th>\n",
              "      <td>38094</td>\n",
              "      <td>40893</td>\n",
              "      <td>4</td>\n",
              "      <td>Great with a salad. Cooked on top of stove for...</td>\n",
              "      <td>2003-02-17</td>\n",
              "      <td>2023-06-17 00:05:56.907367</td>\n",
              "    </tr>\n",
              "    <tr>\n",
              "      <th>1</th>\n",
              "      <td>1293707</td>\n",
              "      <td>40893</td>\n",
              "      <td>5</td>\n",
              "      <td>So simple, so delicious! Great for chilly fall...</td>\n",
              "      <td>2011-12-21</td>\n",
              "      <td>2023-06-17 00:05:56.911362</td>\n",
              "    </tr>\n",
              "    <tr>\n",
              "      <th>2</th>\n",
              "      <td>8937</td>\n",
              "      <td>44394</td>\n",
              "      <td>4</td>\n",
              "      <td>This worked very well and is EASY.  I used not...</td>\n",
              "      <td>2002-12-01</td>\n",
              "      <td>2023-06-17 00:05:56.912059</td>\n",
              "    </tr>\n",
              "    <tr>\n",
              "      <th>3</th>\n",
              "      <td>126440</td>\n",
              "      <td>85009</td>\n",
              "      <td>5</td>\n",
              "      <td>I made the Mexican topping and took it to bunk...</td>\n",
              "      <td>2010-02-27</td>\n",
              "      <td>2023-06-17 00:05:56.912696</td>\n",
              "    </tr>\n",
              "    <tr>\n",
              "      <th>4</th>\n",
              "      <td>57222</td>\n",
              "      <td>85009</td>\n",
              "      <td>5</td>\n",
              "      <td>Made the cheddar bacon topping, adding a sprin...</td>\n",
              "      <td>2011-10-01</td>\n",
              "      <td>2023-06-17 00:05:56.913353</td>\n",
              "    </tr>\n",
              "  </tbody>\n",
              "</table>\n",
              "</div>"
            ],
            "text/plain": [
              "   user_id  food_id  rating  \\\n",
              "0    38094    40893       4   \n",
              "1  1293707    40893       5   \n",
              "2     8937    44394       4   \n",
              "3   126440    85009       5   \n",
              "4    57222    85009       5   \n",
              "\n",
              "                                              review        date  \\\n",
              "0  Great with a salad. Cooked on top of stove for...  2003-02-17   \n",
              "1  So simple, so delicious! Great for chilly fall...  2011-12-21   \n",
              "2  This worked very well and is EASY.  I used not...  2002-12-01   \n",
              "3  I made the Mexican topping and took it to bunk...  2010-02-27   \n",
              "4  Made the cheddar bacon topping, adding a sprin...  2011-10-01   \n",
              "\n",
              "                created_time  \n",
              "0 2023-06-17 00:05:56.907367  \n",
              "1 2023-06-17 00:05:56.911362  \n",
              "2 2023-06-17 00:05:56.912059  \n",
              "3 2023-06-17 00:05:56.912696  \n",
              "4 2023-06-17 00:05:56.913353  "
            ]
          },
          "execution_count": 19,
          "metadata": {},
          "output_type": "execute_result"
        }
      ],
      "source": [
        "# read db and validate stored dataset\n",
        "df_users_sql = pd.read_sql_query('select * from \"raw_interactions\"',con=gbl_db_conn)\n",
        "print(df_users_sql.shape)\n",
        "df_users_sql.head()"
      ]
    },
    {
      "cell_type": "code",
      "execution_count": null,
      "id": "148d8da1",
      "metadata": {
        "id": "148d8da1"
      },
      "outputs": [],
      "source": [
        "gbl_db_conn.close()"
      ]
    },
    {
      "cell_type": "markdown",
      "id": "367ec2f0",
      "metadata": {
        "id": "367ec2f0"
      },
      "source": [
        "### Store IndianFoodDataset into Database"
      ]
    },
    {
      "cell_type": "code",
      "execution_count": null,
      "id": "5ad87506",
      "metadata": {
        "id": "5ad87506",
        "outputId": "c34f00df-a485-44e1-f252-f2769094861d"
      },
      "outputs": [
        {
          "name": "stdout",
          "output_type": "stream",
          "text": [
            "shape:  (6871, 6)\n"
          ]
        }
      ],
      "source": [
        "df_ind_food = pd.read_excel(\"./data/inputs/IndianFoodDataset-Clean.xlsx\")\n",
        "print(\"shape: \", df_ind_food.shape)"
      ]
    },
    {
      "cell_type": "code",
      "execution_count": null,
      "id": "6f1bb030",
      "metadata": {
        "id": "6f1bb030",
        "outputId": "9d3febea-a3a3-4288-e896-c9acdb8edc50"
      },
      "outputs": [
        {
          "data": {
            "text/plain": [
              "Index(['Srno', 'recipename', 'ingredients', 'Cuisine', 'Course', 'Diet'], dtype='object')"
            ]
          },
          "execution_count": 22,
          "metadata": {},
          "output_type": "execute_result"
        }
      ],
      "source": [
        "df_ind_food.columns"
      ]
    },
    {
      "cell_type": "code",
      "execution_count": null,
      "id": "e045878d",
      "metadata": {
        "id": "e045878d"
      },
      "outputs": [],
      "source": [
        "# align with column name of database\n",
        "cols_rename = {\n",
        "    \"recipename\": \"food_name\",\n",
        "    \"ingredients\": \"ingredients\",\n",
        "    \"Cuisine\": \"cuisine\",\n",
        "    \"Course\": \"course\",\n",
        "    \"Diet\": \"diet\"\n",
        "}\n",
        "df_ind_food.rename(columns=cols_rename, inplace=True)"
      ]
    },
    {
      "cell_type": "code",
      "execution_count": null,
      "id": "8fa65dab",
      "metadata": {
        "id": "8fa65dab"
      },
      "outputs": [],
      "source": [
        "# create unique food id... raw recipe is uptp 560K.. so use base of 600K\n",
        "df_ind_food['food_id'] = df_ind_food.index + 600000"
      ]
    },
    {
      "cell_type": "code",
      "execution_count": null,
      "id": "a2acbb6d",
      "metadata": {
        "id": "a2acbb6d",
        "outputId": "694f87a1-534a-4fe3-fed6-548aceda58a3"
      },
      "outputs": [
        {
          "data": {
            "text/html": [
              "<div>\n",
              "<style scoped>\n",
              "    .dataframe tbody tr th:only-of-type {\n",
              "        vertical-align: middle;\n",
              "    }\n",
              "\n",
              "    .dataframe tbody tr th {\n",
              "        vertical-align: top;\n",
              "    }\n",
              "\n",
              "    .dataframe thead th {\n",
              "        text-align: right;\n",
              "    }\n",
              "</style>\n",
              "<table border=\"1\" class=\"dataframe\">\n",
              "  <thead>\n",
              "    <tr style=\"text-align: right;\">\n",
              "      <th></th>\n",
              "      <th>Srno</th>\n",
              "      <th>food_name</th>\n",
              "      <th>ingredients</th>\n",
              "      <th>cuisine</th>\n",
              "      <th>course</th>\n",
              "      <th>diet</th>\n",
              "      <th>food_id</th>\n",
              "    </tr>\n",
              "  </thead>\n",
              "  <tbody>\n",
              "    <tr>\n",
              "      <th>0</th>\n",
              "      <td>1</td>\n",
              "      <td>Masala Karela</td>\n",
              "      <td>['Karela deseeded', 'Salt', 'Onion', 'table Gr...</td>\n",
              "      <td>Indian</td>\n",
              "      <td>Side Dish</td>\n",
              "      <td>Diabetic Friendly</td>\n",
              "      <td>600000</td>\n",
              "    </tr>\n",
              "    <tr>\n",
              "      <th>1</th>\n",
              "      <td>2</td>\n",
              "      <td>Spicy Tomato Rice</td>\n",
              "      <td>['rice', 'tomatoes', 'teas Belle Bhat', 'salt ...</td>\n",
              "      <td>South Indian Recipes</td>\n",
              "      <td>Main Course</td>\n",
              "      <td>Vegetarian</td>\n",
              "      <td>600001</td>\n",
              "    </tr>\n",
              "    <tr>\n",
              "      <th>2</th>\n",
              "      <td>3</td>\n",
              "      <td>Ragi Semiya Upma   Ragi Millet Vermicelli Brea...</td>\n",
              "      <td>['Rice Vermicelli Noodles', 'Onion', 'Carrots ...</td>\n",
              "      <td>South Indian Recipes</td>\n",
              "      <td>South Indian Breakfast</td>\n",
              "      <td>High Protein Vegetarian</td>\n",
              "      <td>600002</td>\n",
              "    </tr>\n",
              "    <tr>\n",
              "      <th>3</th>\n",
              "      <td>4</td>\n",
              "      <td>Gongura Chicken Curry   Andhra Style Gongura C...</td>\n",
              "      <td>['Chicken', 'Onion ped', 'Tomato ped', 'Green ...</td>\n",
              "      <td>Andhra</td>\n",
              "      <td>Lunch</td>\n",
              "      <td>Non Vegeterian</td>\n",
              "      <td>600003</td>\n",
              "    </tr>\n",
              "    <tr>\n",
              "      <th>4</th>\n",
              "      <td>5</td>\n",
              "      <td>Andhra Style Alam Pachadi   Adrak Chutney</td>\n",
              "      <td>['table chana dal', 'table white urad dal', 'r...</td>\n",
              "      <td>Andhra</td>\n",
              "      <td>South Indian Breakfast</td>\n",
              "      <td>Vegetarian</td>\n",
              "      <td>600004</td>\n",
              "    </tr>\n",
              "  </tbody>\n",
              "</table>\n",
              "</div>"
            ],
            "text/plain": [
              "   Srno                                          food_name  \\\n",
              "0     1                                     Masala Karela    \n",
              "1     2                                 Spicy Tomato Rice    \n",
              "2     3  Ragi Semiya Upma   Ragi Millet Vermicelli Brea...   \n",
              "3     4  Gongura Chicken Curry   Andhra Style Gongura C...   \n",
              "4     5         Andhra Style Alam Pachadi   Adrak Chutney    \n",
              "\n",
              "                                         ingredients               cuisine  \\\n",
              "0  ['Karela deseeded', 'Salt', 'Onion', 'table Gr...                Indian   \n",
              "1  ['rice', 'tomatoes', 'teas Belle Bhat', 'salt ...  South Indian Recipes   \n",
              "2  ['Rice Vermicelli Noodles', 'Onion', 'Carrots ...  South Indian Recipes   \n",
              "3  ['Chicken', 'Onion ped', 'Tomato ped', 'Green ...                Andhra   \n",
              "4  ['table chana dal', 'table white urad dal', 'r...                Andhra   \n",
              "\n",
              "                   course                     diet  food_id  \n",
              "0               Side Dish        Diabetic Friendly   600000  \n",
              "1             Main Course               Vegetarian   600001  \n",
              "2  South Indian Breakfast  High Protein Vegetarian   600002  \n",
              "3                   Lunch           Non Vegeterian   600003  \n",
              "4  South Indian Breakfast               Vegetarian   600004  "
            ]
          },
          "execution_count": 25,
          "metadata": {},
          "output_type": "execute_result"
        }
      ],
      "source": [
        "df_ind_food.head()"
      ]
    },
    {
      "cell_type": "raw",
      "id": "6e6ebf63",
      "metadata": {
        "id": "6e6ebf63"
      },
      "source": [
        "# db schema for table: indian_food\n",
        "\n",
        "CREATE TABLE public.indian_food (\n",
        "\tfood_id integer NULL,\n",
        "\tfood_name text NULL,\n",
        "\tfood_description text NULL,\n",
        "\tingredients varchar(128)[],\n",
        "\tcuisine varchar(256) NULL,\n",
        "\tcourse varchar(256) NULL,\n",
        "\tdiet varchar(256) NULL,\n",
        "\tcreated_time timestamp NOT NULL DEFAULT CURRENT_TIMESTAMP\n",
        ");"
      ]
    },
    {
      "cell_type": "code",
      "execution_count": null,
      "id": "ea35503c",
      "metadata": {
        "id": "ea35503c"
      },
      "outputs": [],
      "source": [
        "# convert into proper datatype for storing into DB\n",
        "df_ind_food['ingredients'] = df_ind_food['ingredients'].apply(ast.literal_eval)"
      ]
    },
    {
      "cell_type": "code",
      "execution_count": null,
      "id": "7b251103",
      "metadata": {
        "id": "7b251103"
      },
      "outputs": [],
      "source": [
        "# create database connection\n",
        "gbl_db_conn = DatabaseAccess(DB_CONFIG).getConnection()\n",
        "\n",
        "def indian_food_save_to_db(item):\n",
        "    global gbl_db_conn\n",
        "    try:\n",
        "        cur = gbl_db_conn.cursor()\n",
        "        cur.execute(\"INSERT INTO public.indian_food (food_id, food_name, food_description, ingredients, cuisine, course, diet) \\\n",
        "                                                VALUES (%s, %s, %s, %s, %s, %s, %s)\", \\\n",
        "                                                (item.food_id, item.food_name, '', item.ingredients, item.cuisine, item.course, item.diet))\n",
        "        gbl_db_conn.commit()\n",
        "    except (Exception, psycopg2.Error) as error:\n",
        "        print(\"Error inserting data: \", error)\n",
        "    finally:\n",
        "        cur.close()\n",
        "\n",
        "    return"
      ]
    },
    {
      "cell_type": "code",
      "execution_count": null,
      "id": "70955b5d",
      "metadata": {
        "id": "70955b5d"
      },
      "outputs": [],
      "source": [
        "# store all data into DB\n",
        "res = df_ind_food.apply(indian_food_save_to_db, axis=1)"
      ]
    },
    {
      "cell_type": "code",
      "execution_count": null,
      "id": "968d6d3d",
      "metadata": {
        "id": "968d6d3d",
        "outputId": "671752cc-9123-47ab-990d-ad187c1e713c"
      },
      "outputs": [
        {
          "name": "stdout",
          "output_type": "stream",
          "text": [
            "(6871, 8)\n"
          ]
        },
        {
          "data": {
            "text/html": [
              "<div>\n",
              "<style scoped>\n",
              "    .dataframe tbody tr th:only-of-type {\n",
              "        vertical-align: middle;\n",
              "    }\n",
              "\n",
              "    .dataframe tbody tr th {\n",
              "        vertical-align: top;\n",
              "    }\n",
              "\n",
              "    .dataframe thead th {\n",
              "        text-align: right;\n",
              "    }\n",
              "</style>\n",
              "<table border=\"1\" class=\"dataframe\">\n",
              "  <thead>\n",
              "    <tr style=\"text-align: right;\">\n",
              "      <th></th>\n",
              "      <th>food_id</th>\n",
              "      <th>food_name</th>\n",
              "      <th>food_description</th>\n",
              "      <th>ingredients</th>\n",
              "      <th>cuisine</th>\n",
              "      <th>course</th>\n",
              "      <th>diet</th>\n",
              "      <th>created_time</th>\n",
              "    </tr>\n",
              "  </thead>\n",
              "  <tbody>\n",
              "    <tr>\n",
              "      <th>0</th>\n",
              "      <td>600000</td>\n",
              "      <td>Masala Karela</td>\n",
              "      <td></td>\n",
              "      <td>[Karela deseeded, Salt, Onion, table Gram flou...</td>\n",
              "      <td>Indian</td>\n",
              "      <td>Side Dish</td>\n",
              "      <td>Diabetic Friendly</td>\n",
              "      <td>2023-06-17 00:09:59.710310</td>\n",
              "    </tr>\n",
              "    <tr>\n",
              "      <th>1</th>\n",
              "      <td>600001</td>\n",
              "      <td>Spicy Tomato Rice</td>\n",
              "      <td></td>\n",
              "      <td>[rice, tomatoes, teas Belle Bhat, salt per, te...</td>\n",
              "      <td>South Indian Recipes</td>\n",
              "      <td>Main Course</td>\n",
              "      <td>Vegetarian</td>\n",
              "      <td>2023-06-17 00:09:59.713008</td>\n",
              "    </tr>\n",
              "    <tr>\n",
              "      <th>2</th>\n",
              "      <td>600002</td>\n",
              "      <td>Ragi Semiya Upma   Ragi Millet Vermicelli Brea...</td>\n",
              "      <td></td>\n",
              "      <td>[Rice Vermicelli Noodles, Onion, Carrots ped, ...</td>\n",
              "      <td>South Indian Recipes</td>\n",
              "      <td>South Indian Breakfast</td>\n",
              "      <td>High Protein Vegetarian</td>\n",
              "      <td>2023-06-17 00:09:59.713339</td>\n",
              "    </tr>\n",
              "    <tr>\n",
              "      <th>3</th>\n",
              "      <td>600003</td>\n",
              "      <td>Gongura Chicken Curry   Andhra Style Gongura C...</td>\n",
              "      <td></td>\n",
              "      <td>[Chicken, Onion ped, Tomato ped, Green Chillie...</td>\n",
              "      <td>Andhra</td>\n",
              "      <td>Lunch</td>\n",
              "      <td>Non Vegeterian</td>\n",
              "      <td>2023-06-17 00:09:59.713584</td>\n",
              "    </tr>\n",
              "    <tr>\n",
              "      <th>4</th>\n",
              "      <td>600004</td>\n",
              "      <td>Andhra Style Alam Pachadi   Adrak Chutney</td>\n",
              "      <td></td>\n",
              "      <td>[table chana dal, table white urad dal, red ch...</td>\n",
              "      <td>Andhra</td>\n",
              "      <td>South Indian Breakfast</td>\n",
              "      <td>Vegetarian</td>\n",
              "      <td>2023-06-17 00:09:59.713810</td>\n",
              "    </tr>\n",
              "  </tbody>\n",
              "</table>\n",
              "</div>"
            ],
            "text/plain": [
              "   food_id                                          food_name  \\\n",
              "0   600000                                     Masala Karela    \n",
              "1   600001                                 Spicy Tomato Rice    \n",
              "2   600002  Ragi Semiya Upma   Ragi Millet Vermicelli Brea...   \n",
              "3   600003  Gongura Chicken Curry   Andhra Style Gongura C...   \n",
              "4   600004         Andhra Style Alam Pachadi   Adrak Chutney    \n",
              "\n",
              "  food_description                                        ingredients  \\\n",
              "0                   [Karela deseeded, Salt, Onion, table Gram flou...   \n",
              "1                   [rice, tomatoes, teas Belle Bhat, salt per, te...   \n",
              "2                   [Rice Vermicelli Noodles, Onion, Carrots ped, ...   \n",
              "3                   [Chicken, Onion ped, Tomato ped, Green Chillie...   \n",
              "4                   [table chana dal, table white urad dal, red ch...   \n",
              "\n",
              "                cuisine                  course                     diet  \\\n",
              "0                Indian               Side Dish        Diabetic Friendly   \n",
              "1  South Indian Recipes             Main Course               Vegetarian   \n",
              "2  South Indian Recipes  South Indian Breakfast  High Protein Vegetarian   \n",
              "3                Andhra                   Lunch           Non Vegeterian   \n",
              "4                Andhra  South Indian Breakfast               Vegetarian   \n",
              "\n",
              "                created_time  \n",
              "0 2023-06-17 00:09:59.710310  \n",
              "1 2023-06-17 00:09:59.713008  \n",
              "2 2023-06-17 00:09:59.713339  \n",
              "3 2023-06-17 00:09:59.713584  \n",
              "4 2023-06-17 00:09:59.713810  "
            ]
          },
          "execution_count": 29,
          "metadata": {},
          "output_type": "execute_result"
        }
      ],
      "source": [
        "# read db and validate stored dataset\n",
        "df_ind_food_sql = pd.read_sql_query('select * from \"indian_food\"', con=gbl_db_conn)\n",
        "print(df_ind_food_sql.shape)\n",
        "df_ind_food_sql.head()"
      ]
    },
    {
      "cell_type": "code",
      "execution_count": null,
      "id": "13f7be83",
      "metadata": {
        "id": "13f7be83"
      },
      "outputs": [],
      "source": [
        "gbl_db_conn.close()"
      ]
    },
    {
      "cell_type": "markdown",
      "id": "76beee36",
      "metadata": {
        "id": "76beee36"
      },
      "source": [
        "### Store Indian_Food_101 into Database"
      ]
    },
    {
      "cell_type": "code",
      "execution_count": null,
      "id": "7e0d06dc",
      "metadata": {
        "id": "7e0d06dc",
        "outputId": "c81bd166-7e1a-47de-e17a-4d6ab5931d94"
      },
      "outputs": [
        {
          "name": "stdout",
          "output_type": "stream",
          "text": [
            "shape:  (255, 9)\n"
          ]
        }
      ],
      "source": [
        "df_ind_food101 = pd.read_excel(\"./data/inputs/Indian_Food_101.xlsx\")\n",
        "print(\"shape: \", df_ind_food101.shape)"
      ]
    },
    {
      "cell_type": "code",
      "execution_count": null,
      "id": "a618e371",
      "metadata": {
        "id": "a618e371",
        "outputId": "da937e2f-1335-4ccf-fd66-e5774f1d7748"
      },
      "outputs": [
        {
          "data": {
            "text/plain": [
              "Index(['name', 'ingredients', 'diet', 'prep_time', 'cook_time',\n",
              "       'flavor_profile', 'course', 'state', 'region'],\n",
              "      dtype='object')"
            ]
          },
          "execution_count": 32,
          "metadata": {},
          "output_type": "execute_result"
        }
      ],
      "source": [
        "df_ind_food101.columns"
      ]
    },
    {
      "cell_type": "code",
      "execution_count": null,
      "id": "5ff194e6",
      "metadata": {
        "id": "5ff194e6"
      },
      "outputs": [],
      "source": [
        "# align with column name of database\n",
        "cols_rename = {\n",
        "    \"name\": \"food_name\"\n",
        "}\n",
        "df_ind_food101.rename(columns=cols_rename, inplace=True)"
      ]
    },
    {
      "cell_type": "code",
      "execution_count": null,
      "id": "a8ea6938",
      "metadata": {
        "id": "a8ea6938"
      },
      "outputs": [],
      "source": [
        "# create unique food id... raw recipe is uptp 560K.. so use base of 600K\n",
        "df_ind_food101['food_id'] = df_ind_food101.index + 700000"
      ]
    },
    {
      "cell_type": "code",
      "execution_count": null,
      "id": "cca46982",
      "metadata": {
        "id": "cca46982",
        "outputId": "c5cd9543-d1ec-4e72-a3a1-4be14a9909de"
      },
      "outputs": [
        {
          "data": {
            "text/html": [
              "<div>\n",
              "<style scoped>\n",
              "    .dataframe tbody tr th:only-of-type {\n",
              "        vertical-align: middle;\n",
              "    }\n",
              "\n",
              "    .dataframe tbody tr th {\n",
              "        vertical-align: top;\n",
              "    }\n",
              "\n",
              "    .dataframe thead th {\n",
              "        text-align: right;\n",
              "    }\n",
              "</style>\n",
              "<table border=\"1\" class=\"dataframe\">\n",
              "  <thead>\n",
              "    <tr style=\"text-align: right;\">\n",
              "      <th></th>\n",
              "      <th>food_name</th>\n",
              "      <th>ingredients</th>\n",
              "      <th>diet</th>\n",
              "      <th>prep_time</th>\n",
              "      <th>cook_time</th>\n",
              "      <th>flavor_profile</th>\n",
              "      <th>course</th>\n",
              "      <th>state</th>\n",
              "      <th>region</th>\n",
              "      <th>food_id</th>\n",
              "    </tr>\n",
              "  </thead>\n",
              "  <tbody>\n",
              "    <tr>\n",
              "      <th>0</th>\n",
              "      <td>Balu shahi</td>\n",
              "      <td>Maida flour, yogurt, oil, sugar</td>\n",
              "      <td>vegetarian</td>\n",
              "      <td>45</td>\n",
              "      <td>25</td>\n",
              "      <td>sweet</td>\n",
              "      <td>dessert</td>\n",
              "      <td>West Bengal</td>\n",
              "      <td>East</td>\n",
              "      <td>700000</td>\n",
              "    </tr>\n",
              "    <tr>\n",
              "      <th>1</th>\n",
              "      <td>Boondi</td>\n",
              "      <td>Gram flour, ghee, sugar</td>\n",
              "      <td>vegetarian</td>\n",
              "      <td>80</td>\n",
              "      <td>30</td>\n",
              "      <td>sweet</td>\n",
              "      <td>dessert</td>\n",
              "      <td>Rajasthan</td>\n",
              "      <td>West</td>\n",
              "      <td>700001</td>\n",
              "    </tr>\n",
              "    <tr>\n",
              "      <th>2</th>\n",
              "      <td>Gajar ka halwa</td>\n",
              "      <td>Carrots, milk, sugar, ghee, cashews, raisins</td>\n",
              "      <td>vegetarian</td>\n",
              "      <td>15</td>\n",
              "      <td>60</td>\n",
              "      <td>sweet</td>\n",
              "      <td>dessert</td>\n",
              "      <td>Punjab</td>\n",
              "      <td>North</td>\n",
              "      <td>700002</td>\n",
              "    </tr>\n",
              "    <tr>\n",
              "      <th>3</th>\n",
              "      <td>Ghevar</td>\n",
              "      <td>Flour, ghee, kewra, milk, clarified butter, su...</td>\n",
              "      <td>vegetarian</td>\n",
              "      <td>15</td>\n",
              "      <td>30</td>\n",
              "      <td>sweet</td>\n",
              "      <td>dessert</td>\n",
              "      <td>Rajasthan</td>\n",
              "      <td>West</td>\n",
              "      <td>700003</td>\n",
              "    </tr>\n",
              "    <tr>\n",
              "      <th>4</th>\n",
              "      <td>Gulab jamun</td>\n",
              "      <td>Milk powder, plain flour, baking powder, ghee,...</td>\n",
              "      <td>vegetarian</td>\n",
              "      <td>15</td>\n",
              "      <td>40</td>\n",
              "      <td>sweet</td>\n",
              "      <td>dessert</td>\n",
              "      <td>West Bengal</td>\n",
              "      <td>East</td>\n",
              "      <td>700004</td>\n",
              "    </tr>\n",
              "  </tbody>\n",
              "</table>\n",
              "</div>"
            ],
            "text/plain": [
              "        food_name                                        ingredients  \\\n",
              "0      Balu shahi                    Maida flour, yogurt, oil, sugar   \n",
              "1          Boondi                            Gram flour, ghee, sugar   \n",
              "2  Gajar ka halwa       Carrots, milk, sugar, ghee, cashews, raisins   \n",
              "3          Ghevar  Flour, ghee, kewra, milk, clarified butter, su...   \n",
              "4     Gulab jamun  Milk powder, plain flour, baking powder, ghee,...   \n",
              "\n",
              "         diet  prep_time  cook_time flavor_profile   course        state  \\\n",
              "0  vegetarian         45         25          sweet  dessert  West Bengal   \n",
              "1  vegetarian         80         30          sweet  dessert    Rajasthan   \n",
              "2  vegetarian         15         60          sweet  dessert       Punjab   \n",
              "3  vegetarian         15         30          sweet  dessert    Rajasthan   \n",
              "4  vegetarian         15         40          sweet  dessert  West Bengal   \n",
              "\n",
              "  region  food_id  \n",
              "0   East   700000  \n",
              "1   West   700001  \n",
              "2  North   700002  \n",
              "3   West   700003  \n",
              "4   East   700004  "
            ]
          },
          "execution_count": 35,
          "metadata": {},
          "output_type": "execute_result"
        }
      ],
      "source": [
        "df_ind_food101.head()"
      ]
    },
    {
      "cell_type": "raw",
      "id": "1c67e864",
      "metadata": {
        "id": "1c67e864"
      },
      "source": [
        "# db schema for table: indian_food101\n",
        "\n",
        "CREATE TABLE public.indian_food101 (\n",
        "\tid integer NOT NULL GENERATED ALWAYS AS IDENTITY,\n",
        "\tfood_id integer NULL,\n",
        "\tfood_name text NULL,\n",
        "\tfood_description text NULL,\n",
        "\tingredients varchar(128)[],\n",
        "\tcourse varchar(128) NULL,\n",
        "\tdiet varchar(128) NULL,\n",
        "\t\"state\" varchar(128) NULL,\n",
        "\tregion varchar(128) NULL,\n",
        "\tcreated_time timestamp NOT NULL DEFAULT CURRENT_TIMESTAMP\n",
        ");"
      ]
    },
    {
      "cell_type": "code",
      "execution_count": null,
      "id": "a7d6e1cd",
      "metadata": {
        "id": "a7d6e1cd"
      },
      "outputs": [],
      "source": [
        "def cleanIngredientValues(inp):\n",
        "    strList =  [x.strip() for x in re.split(r',', inp)]\n",
        "    return strList\n",
        "\n",
        "df_ind_food101[\"ingredients\"] = df_ind_food101[\"ingredients\"].apply(lambda x: cleanIngredientValues(x))"
      ]
    },
    {
      "cell_type": "code",
      "execution_count": null,
      "id": "4cae459a",
      "metadata": {
        "id": "4cae459a"
      },
      "outputs": [],
      "source": [
        "# create database connection\n",
        "gbl_db_conn = DatabaseAccess(DB_CONFIG).getConnection()\n",
        "\n",
        "def indian_food101_save_to_db(item):\n",
        "    global gbl_db_conn\n",
        "    try:\n",
        "        cur = gbl_db_conn.cursor()\n",
        "        cur.execute(\"INSERT INTO public.indian_food101 (food_id, food_name, food_description, ingredients, course, diet, state, region) \\\n",
        "                                                VALUES (%s, %s, %s, %s, %s, %s, %s, %s)\", \\\n",
        "                                                (item.food_id, item.food_name, '', item.ingredients, item.course, item.diet, item.state, item.region))\n",
        "        gbl_db_conn.commit()\n",
        "    except (Exception, psycopg2.Error) as error:\n",
        "        print(\"Error inserting data: \", error)\n",
        "    finally:\n",
        "        cur.close()\n",
        "\n",
        "    return"
      ]
    },
    {
      "cell_type": "code",
      "execution_count": null,
      "id": "13f6b6e1",
      "metadata": {
        "id": "13f6b6e1"
      },
      "outputs": [],
      "source": [
        "# store all data into DB\n",
        "res = df_ind_food101.apply(indian_food101_save_to_db, axis=1)"
      ]
    },
    {
      "cell_type": "code",
      "execution_count": null,
      "id": "c5f4bf82",
      "metadata": {
        "id": "c5f4bf82",
        "outputId": "827719eb-decb-4b21-96ae-5fc886b5f013"
      },
      "outputs": [
        {
          "name": "stdout",
          "output_type": "stream",
          "text": [
            "(255, 10)\n"
          ]
        },
        {
          "data": {
            "text/html": [
              "<div>\n",
              "<style scoped>\n",
              "    .dataframe tbody tr th:only-of-type {\n",
              "        vertical-align: middle;\n",
              "    }\n",
              "\n",
              "    .dataframe tbody tr th {\n",
              "        vertical-align: top;\n",
              "    }\n",
              "\n",
              "    .dataframe thead th {\n",
              "        text-align: right;\n",
              "    }\n",
              "</style>\n",
              "<table border=\"1\" class=\"dataframe\">\n",
              "  <thead>\n",
              "    <tr style=\"text-align: right;\">\n",
              "      <th></th>\n",
              "      <th>id</th>\n",
              "      <th>food_id</th>\n",
              "      <th>food_name</th>\n",
              "      <th>food_description</th>\n",
              "      <th>ingredients</th>\n",
              "      <th>course</th>\n",
              "      <th>diet</th>\n",
              "      <th>state</th>\n",
              "      <th>region</th>\n",
              "      <th>created_time</th>\n",
              "    </tr>\n",
              "  </thead>\n",
              "  <tbody>\n",
              "    <tr>\n",
              "      <th>0</th>\n",
              "      <td>1</td>\n",
              "      <td>700000</td>\n",
              "      <td>Balu shahi</td>\n",
              "      <td></td>\n",
              "      <td>[Maida flour, yogurt, oil, sugar]</td>\n",
              "      <td>dessert</td>\n",
              "      <td>vegetarian</td>\n",
              "      <td>West Bengal</td>\n",
              "      <td>East</td>\n",
              "      <td>2023-06-17 00:10:01.922589</td>\n",
              "    </tr>\n",
              "    <tr>\n",
              "      <th>1</th>\n",
              "      <td>2</td>\n",
              "      <td>700001</td>\n",
              "      <td>Boondi</td>\n",
              "      <td></td>\n",
              "      <td>[Gram flour, ghee, sugar]</td>\n",
              "      <td>dessert</td>\n",
              "      <td>vegetarian</td>\n",
              "      <td>Rajasthan</td>\n",
              "      <td>West</td>\n",
              "      <td>2023-06-17 00:10:01.926956</td>\n",
              "    </tr>\n",
              "    <tr>\n",
              "      <th>2</th>\n",
              "      <td>3</td>\n",
              "      <td>700002</td>\n",
              "      <td>Gajar ka halwa</td>\n",
              "      <td></td>\n",
              "      <td>[Carrots, milk, sugar, ghee, cashews, raisins]</td>\n",
              "      <td>dessert</td>\n",
              "      <td>vegetarian</td>\n",
              "      <td>Punjab</td>\n",
              "      <td>North</td>\n",
              "      <td>2023-06-17 00:10:01.927290</td>\n",
              "    </tr>\n",
              "    <tr>\n",
              "      <th>3</th>\n",
              "      <td>4</td>\n",
              "      <td>700003</td>\n",
              "      <td>Ghevar</td>\n",
              "      <td></td>\n",
              "      <td>[Flour, ghee, kewra, milk, clarified butter, s...</td>\n",
              "      <td>dessert</td>\n",
              "      <td>vegetarian</td>\n",
              "      <td>Rajasthan</td>\n",
              "      <td>West</td>\n",
              "      <td>2023-06-17 00:10:01.927599</td>\n",
              "    </tr>\n",
              "    <tr>\n",
              "      <th>4</th>\n",
              "      <td>5</td>\n",
              "      <td>700004</td>\n",
              "      <td>Gulab jamun</td>\n",
              "      <td></td>\n",
              "      <td>[Milk powder, plain flour, baking powder, ghee...</td>\n",
              "      <td>dessert</td>\n",
              "      <td>vegetarian</td>\n",
              "      <td>West Bengal</td>\n",
              "      <td>East</td>\n",
              "      <td>2023-06-17 00:10:01.927930</td>\n",
              "    </tr>\n",
              "  </tbody>\n",
              "</table>\n",
              "</div>"
            ],
            "text/plain": [
              "   id  food_id       food_name food_description  \\\n",
              "0   1   700000      Balu shahi                    \n",
              "1   2   700001          Boondi                    \n",
              "2   3   700002  Gajar ka halwa                    \n",
              "3   4   700003          Ghevar                    \n",
              "4   5   700004     Gulab jamun                    \n",
              "\n",
              "                                         ingredients   course        diet  \\\n",
              "0                  [Maida flour, yogurt, oil, sugar]  dessert  vegetarian   \n",
              "1                          [Gram flour, ghee, sugar]  dessert  vegetarian   \n",
              "2     [Carrots, milk, sugar, ghee, cashews, raisins]  dessert  vegetarian   \n",
              "3  [Flour, ghee, kewra, milk, clarified butter, s...  dessert  vegetarian   \n",
              "4  [Milk powder, plain flour, baking powder, ghee...  dessert  vegetarian   \n",
              "\n",
              "         state region               created_time  \n",
              "0  West Bengal   East 2023-06-17 00:10:01.922589  \n",
              "1    Rajasthan   West 2023-06-17 00:10:01.926956  \n",
              "2       Punjab  North 2023-06-17 00:10:01.927290  \n",
              "3    Rajasthan   West 2023-06-17 00:10:01.927599  \n",
              "4  West Bengal   East 2023-06-17 00:10:01.927930  "
            ]
          },
          "execution_count": 39,
          "metadata": {},
          "output_type": "execute_result"
        }
      ],
      "source": [
        "# read db and validate stored dataset\n",
        "df_ind_food101_sql = pd.read_sql_query('select * from \"indian_food101\"',con=gbl_db_conn)\n",
        "print(df_ind_food101_sql.shape)\n",
        "df_ind_food101_sql.head()"
      ]
    },
    {
      "cell_type": "code",
      "execution_count": null,
      "id": "a29a6056",
      "metadata": {
        "id": "a29a6056"
      },
      "outputs": [],
      "source": [
        "gbl_db_conn.close()"
      ]
    },
    {
      "cell_type": "markdown",
      "id": "a26f1874",
      "metadata": {
        "id": "a26f1874"
      },
      "source": [
        "### Store Allergy Data into Database"
      ]
    },
    {
      "cell_type": "code",
      "execution_count": null,
      "id": "c2357682",
      "metadata": {
        "id": "c2357682",
        "outputId": "c02c1ad2-c16b-4e6f-ff71-baa2967a1da9"
      },
      "outputs": [
        {
          "name": "stdout",
          "output_type": "stream",
          "text": [
            "shape:  (64, 2)\n"
          ]
        }
      ],
      "source": [
        "df_allergy = pd.read_excel(\"./data/inputs/allergy_data.xlsx\")\n",
        "print(\"shape: \", df_allergy.shape)"
      ]
    },
    {
      "cell_type": "code",
      "execution_count": null,
      "id": "b76e5113",
      "metadata": {
        "id": "b76e5113",
        "outputId": "40bf2141-666b-4e10-8a65-08710299c3fe"
      },
      "outputs": [
        {
          "data": {
            "text/plain": [
              "Index(['allergy', 'ingredients'], dtype='object')"
            ]
          },
          "execution_count": 43,
          "metadata": {},
          "output_type": "execute_result"
        }
      ],
      "source": [
        "df_allergy.columns"
      ]
    },
    {
      "cell_type": "raw",
      "id": "dae26ad5",
      "metadata": {
        "id": "dae26ad5"
      },
      "source": [
        "# db schema for table: allergy_data\n",
        "\n",
        "CREATE TABLE public.allergy_data (\n",
        "\tallergy varchar(128) NULL,\n",
        "\tingredients varchar(128)[],\n",
        "\tcreated_time timestamp NOT NULL DEFAULT CURRENT_TIMESTAMP\n",
        ");"
      ]
    },
    {
      "cell_type": "code",
      "execution_count": null,
      "id": "9e34ae45",
      "metadata": {
        "id": "9e34ae45"
      },
      "outputs": [],
      "source": [
        "# store all value in lower case\n",
        "df_allergy[\"allergy\"] = df_allergy[\"allergy\"].str.lower()\n",
        "df_allergy[\"ingredients\"] = df_allergy[\"ingredients\"].str.lower()"
      ]
    },
    {
      "cell_type": "code",
      "execution_count": null,
      "id": "4ba4e72e",
      "metadata": {
        "id": "4ba4e72e"
      },
      "outputs": [],
      "source": [
        "def cleanIngredientValues(inp):\n",
        "    strList =  [x.strip() for x in re.split(r',', inp)]\n",
        "    return strList\n",
        "\n",
        "df_allergy[\"ingredients\"] = df_allergy[\"ingredients\"].apply(lambda x: cleanIngredientValues(x))"
      ]
    },
    {
      "cell_type": "code",
      "execution_count": null,
      "id": "2261144b",
      "metadata": {
        "id": "2261144b"
      },
      "outputs": [],
      "source": [
        "# create database connection\n",
        "gbl_db_conn = DatabaseAccess(DB_CONFIG).getConnection()\n",
        "\n",
        "def allergy_data_save_to_db(item):\n",
        "    global gbl_db_conn\n",
        "    try:\n",
        "        cur = gbl_db_conn.cursor()\n",
        "        cur.execute(\"INSERT INTO public.allergy_data (allergy, ingredients) \\\n",
        "                                                VALUES (%s, %s)\", \\\n",
        "                                                (item.allergy, item.ingredients))\n",
        "        gbl_db_conn.commit()\n",
        "    except (Exception, psycopg2.Error) as error:\n",
        "        print(\"Error inserting data: \", error)\n",
        "    finally:\n",
        "        cur.close()\n",
        "\n",
        "    return"
      ]
    },
    {
      "cell_type": "code",
      "execution_count": null,
      "id": "0dfcb384",
      "metadata": {
        "id": "0dfcb384"
      },
      "outputs": [],
      "source": [
        "# store all data into DB\n",
        "res = df_allergy.apply(allergy_data_save_to_db, axis=1)"
      ]
    },
    {
      "cell_type": "code",
      "execution_count": null,
      "id": "451d242c",
      "metadata": {
        "id": "451d242c",
        "outputId": "76af7395-637c-4ece-cb1f-e80b00d34fa5"
      },
      "outputs": [
        {
          "name": "stdout",
          "output_type": "stream",
          "text": [
            "(64, 3)\n"
          ]
        },
        {
          "data": {
            "text/html": [
              "<div>\n",
              "<style scoped>\n",
              "    .dataframe tbody tr th:only-of-type {\n",
              "        vertical-align: middle;\n",
              "    }\n",
              "\n",
              "    .dataframe tbody tr th {\n",
              "        vertical-align: top;\n",
              "    }\n",
              "\n",
              "    .dataframe thead th {\n",
              "        text-align: right;\n",
              "    }\n",
              "</style>\n",
              "<table border=\"1\" class=\"dataframe\">\n",
              "  <thead>\n",
              "    <tr style=\"text-align: right;\">\n",
              "      <th></th>\n",
              "      <th>allergy</th>\n",
              "      <th>ingredients</th>\n",
              "      <th>created_time</th>\n",
              "    </tr>\n",
              "  </thead>\n",
              "  <tbody>\n",
              "    <tr>\n",
              "      <th>0</th>\n",
              "      <td>allium</td>\n",
              "      <td>[asparagus, garlic, leek, nira, onion, shallot...</td>\n",
              "      <td>2023-06-17 00:10:20.198287</td>\n",
              "    </tr>\n",
              "    <tr>\n",
              "      <th>1</th>\n",
              "      <td>allium</td>\n",
              "      <td>[welsh]</td>\n",
              "      <td>2023-06-17 00:10:20.200643</td>\n",
              "    </tr>\n",
              "    <tr>\n",
              "      <th>2</th>\n",
              "      <td>alpha-gal syndrome</td>\n",
              "      <td>[cattle, deer, goat, horse, pig, sheep, rabbit]</td>\n",
              "      <td>2023-06-17 00:10:20.201501</td>\n",
              "    </tr>\n",
              "    <tr>\n",
              "      <th>3</th>\n",
              "      <td>aquagenic urticaria</td>\n",
              "      <td>[mineral water]</td>\n",
              "      <td>2023-06-17 00:10:20.202126</td>\n",
              "    </tr>\n",
              "    <tr>\n",
              "      <th>4</th>\n",
              "      <td>beer</td>\n",
              "      <td>[hop]</td>\n",
              "      <td>2023-06-17 00:10:20.202827</td>\n",
              "    </tr>\n",
              "  </tbody>\n",
              "</table>\n",
              "</div>"
            ],
            "text/plain": [
              "               allergy                                        ingredients  \\\n",
              "0               allium  [asparagus, garlic, leek, nira, onion, shallot...   \n",
              "1               allium                                            [welsh]   \n",
              "2   alpha-gal syndrome    [cattle, deer, goat, horse, pig, sheep, rabbit]   \n",
              "3  aquagenic urticaria                                    [mineral water]   \n",
              "4                 beer                                              [hop]   \n",
              "\n",
              "                created_time  \n",
              "0 2023-06-17 00:10:20.198287  \n",
              "1 2023-06-17 00:10:20.200643  \n",
              "2 2023-06-17 00:10:20.201501  \n",
              "3 2023-06-17 00:10:20.202126  \n",
              "4 2023-06-17 00:10:20.202827  "
            ]
          },
          "execution_count": 48,
          "metadata": {},
          "output_type": "execute_result"
        }
      ],
      "source": [
        "# read db and validate stored dataset\n",
        "df_allergy_sql = pd.read_sql_query('select * from \"allergy_data\"',con=gbl_db_conn)\n",
        "print(df_allergy_sql.shape)\n",
        "df_allergy_sql.head()"
      ]
    },
    {
      "cell_type": "code",
      "execution_count": null,
      "id": "4899195a",
      "metadata": {
        "id": "4899195a"
      },
      "outputs": [],
      "source": [
        "gbl_db_conn.close()"
      ]
    },
    {
      "cell_type": "markdown",
      "id": "b2b8fc33",
      "metadata": {
        "id": "b2b8fc33"
      },
      "source": [
        "### StoreNon-Veg Keywords into Database"
      ]
    },
    {
      "cell_type": "code",
      "execution_count": null,
      "id": "133a1ef5",
      "metadata": {
        "id": "133a1ef5",
        "outputId": "76b56c50-1f54-47a0-f2fa-6559ddb67eb0"
      },
      "outputs": [
        {
          "name": "stdout",
          "output_type": "stream",
          "text": [
            "shape:  (50, 2)\n"
          ]
        }
      ],
      "source": [
        "df_nonveg = pd.read_csv(\"./data/inputs/non_veg_keywords.csv\")\n",
        "print(\"shape: \", df_nonveg.shape)"
      ]
    },
    {
      "cell_type": "raw",
      "id": "7d924477",
      "metadata": {
        "id": "7d924477"
      },
      "source": [
        "# db schema for table: nonveg_keywords\n",
        "\n",
        "CREATE TABLE public.nonveg_keywords (\n",
        "\tsno integer NULL,\n",
        "\tkeywords text null,\n",
        "\tcreated_time timestamp NOT NULL DEFAULT CURRENT_TIMESTAMP\n",
        ");"
      ]
    },
    {
      "cell_type": "code",
      "execution_count": null,
      "id": "c6ec8808",
      "metadata": {
        "id": "c6ec8808",
        "outputId": "e35a2d5d-cd3a-4e1b-8a86-0a48fd58c215"
      },
      "outputs": [
        {
          "data": {
            "text/html": [
              "<div>\n",
              "<style scoped>\n",
              "    .dataframe tbody tr th:only-of-type {\n",
              "        vertical-align: middle;\n",
              "    }\n",
              "\n",
              "    .dataframe tbody tr th {\n",
              "        vertical-align: top;\n",
              "    }\n",
              "\n",
              "    .dataframe thead th {\n",
              "        text-align: right;\n",
              "    }\n",
              "</style>\n",
              "<table border=\"1\" class=\"dataframe\">\n",
              "  <thead>\n",
              "    <tr style=\"text-align: right;\">\n",
              "      <th></th>\n",
              "      <th>sno</th>\n",
              "      <th>keywords</th>\n",
              "    </tr>\n",
              "  </thead>\n",
              "  <tbody>\n",
              "    <tr>\n",
              "      <th>0</th>\n",
              "      <td>0</td>\n",
              "      <td>chicken</td>\n",
              "    </tr>\n",
              "    <tr>\n",
              "      <th>1</th>\n",
              "      <td>1</td>\n",
              "      <td>ground beef</td>\n",
              "    </tr>\n",
              "    <tr>\n",
              "      <th>2</th>\n",
              "      <td>2</td>\n",
              "      <td>pork spareribs</td>\n",
              "    </tr>\n",
              "    <tr>\n",
              "      <th>3</th>\n",
              "      <td>3</td>\n",
              "      <td>chicken bouillon cubes</td>\n",
              "    </tr>\n",
              "    <tr>\n",
              "      <th>4</th>\n",
              "      <td>4</td>\n",
              "      <td>bacon</td>\n",
              "    </tr>\n",
              "  </tbody>\n",
              "</table>\n",
              "</div>"
            ],
            "text/plain": [
              "   sno                keywords\n",
              "0    0                 chicken\n",
              "1    1             ground beef\n",
              "2    2          pork spareribs\n",
              "3    3  chicken bouillon cubes\n",
              "4    4                   bacon"
            ]
          },
          "execution_count": 51,
          "metadata": {},
          "output_type": "execute_result"
        }
      ],
      "source": [
        "df_nonveg.head()"
      ]
    },
    {
      "cell_type": "code",
      "execution_count": null,
      "id": "b44a3382",
      "metadata": {
        "id": "b44a3382"
      },
      "outputs": [],
      "source": [
        "# create database connection\n",
        "gbl_db_conn = DatabaseAccess(DB_CONFIG).getConnection()\n",
        "\n",
        "def nonveg_keywords_save_to_db(item):\n",
        "    global gbl_db_conn\n",
        "    try:\n",
        "        cur = gbl_db_conn.cursor()\n",
        "        cur.execute(\"INSERT INTO public.nonveg_keywords (sno, keywords) \\\n",
        "                                                VALUES (%s, %s)\", \\\n",
        "                                                (item.sno, item.keywords))\n",
        "        gbl_db_conn.commit()\n",
        "    except (Exception, psycopg2.Error) as error:\n",
        "        print(\"Error inserting data: \", error)\n",
        "    finally:\n",
        "        cur.close()\n",
        "\n",
        "    return\n",
        "\n",
        "def print_data(item):\n",
        "    print(item.keywords)"
      ]
    },
    {
      "cell_type": "code",
      "execution_count": null,
      "id": "c6f0a12a",
      "metadata": {
        "id": "c6f0a12a"
      },
      "outputs": [],
      "source": [
        "# store all data into DB\n",
        "res = df_nonveg.apply(nonveg_keywords_save_to_db, axis=1)"
      ]
    },
    {
      "cell_type": "code",
      "execution_count": null,
      "id": "f25d7d43",
      "metadata": {
        "id": "f25d7d43",
        "outputId": "125ee4c7-7851-4ec8-d88d-59b7d83e973f"
      },
      "outputs": [
        {
          "name": "stdout",
          "output_type": "stream",
          "text": [
            "(50, 3)\n"
          ]
        },
        {
          "data": {
            "text/html": [
              "<div>\n",
              "<style scoped>\n",
              "    .dataframe tbody tr th:only-of-type {\n",
              "        vertical-align: middle;\n",
              "    }\n",
              "\n",
              "    .dataframe tbody tr th {\n",
              "        vertical-align: top;\n",
              "    }\n",
              "\n",
              "    .dataframe thead th {\n",
              "        text-align: right;\n",
              "    }\n",
              "</style>\n",
              "<table border=\"1\" class=\"dataframe\">\n",
              "  <thead>\n",
              "    <tr style=\"text-align: right;\">\n",
              "      <th></th>\n",
              "      <th>sno</th>\n",
              "      <th>keywords</th>\n",
              "      <th>created_time</th>\n",
              "    </tr>\n",
              "  </thead>\n",
              "  <tbody>\n",
              "    <tr>\n",
              "      <th>0</th>\n",
              "      <td>0</td>\n",
              "      <td>chicken</td>\n",
              "      <td>2023-06-17 00:10:36.698412</td>\n",
              "    </tr>\n",
              "    <tr>\n",
              "      <th>1</th>\n",
              "      <td>1</td>\n",
              "      <td>ground beef</td>\n",
              "      <td>2023-06-17 00:10:36.705028</td>\n",
              "    </tr>\n",
              "    <tr>\n",
              "      <th>2</th>\n",
              "      <td>2</td>\n",
              "      <td>pork spareribs</td>\n",
              "      <td>2023-06-17 00:10:36.705663</td>\n",
              "    </tr>\n",
              "    <tr>\n",
              "      <th>3</th>\n",
              "      <td>3</td>\n",
              "      <td>chicken bouillon cubes</td>\n",
              "      <td>2023-06-17 00:10:36.706169</td>\n",
              "    </tr>\n",
              "    <tr>\n",
              "      <th>4</th>\n",
              "      <td>4</td>\n",
              "      <td>bacon</td>\n",
              "      <td>2023-06-17 00:10:36.706594</td>\n",
              "    </tr>\n",
              "  </tbody>\n",
              "</table>\n",
              "</div>"
            ],
            "text/plain": [
              "   sno                keywords               created_time\n",
              "0    0                 chicken 2023-06-17 00:10:36.698412\n",
              "1    1             ground beef 2023-06-17 00:10:36.705028\n",
              "2    2          pork spareribs 2023-06-17 00:10:36.705663\n",
              "3    3  chicken bouillon cubes 2023-06-17 00:10:36.706169\n",
              "4    4                   bacon 2023-06-17 00:10:36.706594"
            ]
          },
          "execution_count": 54,
          "metadata": {},
          "output_type": "execute_result"
        }
      ],
      "source": [
        "# read db and validate stored dataset\n",
        "df_nonveg_sql = pd.read_sql_query('select * from \"nonveg_keywords\"',con=gbl_db_conn)\n",
        "print(df_nonveg_sql.shape)\n",
        "df_nonveg_sql.head()"
      ]
    },
    {
      "cell_type": "code",
      "execution_count": null,
      "id": "121df132",
      "metadata": {
        "id": "121df132"
      },
      "outputs": [],
      "source": [
        "gbl_db_conn.close()"
      ]
    },
    {
      "cell_type": "markdown",
      "id": "041d0805",
      "metadata": {
        "id": "041d0805"
      },
      "source": [
        "### Save Season data into Database"
      ]
    },
    {
      "cell_type": "code",
      "execution_count": null,
      "id": "c4cd4375",
      "metadata": {
        "id": "c4cd4375",
        "outputId": "21bd611f-791a-459e-9bb1-e8a66d624786"
      },
      "outputs": [
        {
          "name": "stdout",
          "output_type": "stream",
          "text": [
            "shape:  (1266, 2)\n"
          ]
        }
      ],
      "source": [
        "df_season = pd.read_excel(\"./data/inputs/season_corpus.xlsx\")\n",
        "print(\"shape: \", df_season.shape)"
      ]
    },
    {
      "cell_type": "code",
      "execution_count": null,
      "id": "7a34b24c",
      "metadata": {
        "id": "7a34b24c",
        "outputId": "a17455af-84f5-4bf8-a25c-08aa4447706c"
      },
      "outputs": [
        {
          "data": {
            "text/html": [
              "<div>\n",
              "<style scoped>\n",
              "    .dataframe tbody tr th:only-of-type {\n",
              "        vertical-align: middle;\n",
              "    }\n",
              "\n",
              "    .dataframe tbody tr th {\n",
              "        vertical-align: top;\n",
              "    }\n",
              "\n",
              "    .dataframe thead th {\n",
              "        text-align: right;\n",
              "    }\n",
              "</style>\n",
              "<table border=\"1\" class=\"dataframe\">\n",
              "  <thead>\n",
              "    <tr style=\"text-align: right;\">\n",
              "      <th></th>\n",
              "      <th>season</th>\n",
              "      <th>keywords</th>\n",
              "    </tr>\n",
              "  </thead>\n",
              "  <tbody>\n",
              "    <tr>\n",
              "      <th>0</th>\n",
              "      <td>Spring</td>\n",
              "      <td>Asparagus</td>\n",
              "    </tr>\n",
              "    <tr>\n",
              "      <th>1</th>\n",
              "      <td>Spring</td>\n",
              "      <td>Peas</td>\n",
              "    </tr>\n",
              "    <tr>\n",
              "      <th>2</th>\n",
              "      <td>Spring</td>\n",
              "      <td>Radishes</td>\n",
              "    </tr>\n",
              "    <tr>\n",
              "      <th>3</th>\n",
              "      <td>Spring</td>\n",
              "      <td>Rhubarb</td>\n",
              "    </tr>\n",
              "    <tr>\n",
              "      <th>4</th>\n",
              "      <td>Spring</td>\n",
              "      <td>Fava beans</td>\n",
              "    </tr>\n",
              "  </tbody>\n",
              "</table>\n",
              "</div>"
            ],
            "text/plain": [
              "   season     keywords\n",
              "0  Spring    Asparagus\n",
              "1  Spring         Peas\n",
              "2  Spring     Radishes\n",
              "3  Spring      Rhubarb\n",
              "4  Spring   Fava beans"
            ]
          },
          "execution_count": 57,
          "metadata": {},
          "output_type": "execute_result"
        }
      ],
      "source": [
        "df_season.head()"
      ]
    },
    {
      "cell_type": "raw",
      "id": "62456e8d",
      "metadata": {
        "id": "62456e8d"
      },
      "source": [
        "# db schema for table: season_corpus\n",
        "\n",
        "CREATE TABLE public.season_corpus (\n",
        "\tseason varchar(128) NULL,\n",
        "\tkeywords text null,\n",
        "\tcreated_time timestamp NOT NULL DEFAULT CURRENT_TIMESTAMP\n",
        ");"
      ]
    },
    {
      "cell_type": "code",
      "execution_count": null,
      "id": "a7bb4282",
      "metadata": {
        "id": "a7bb4282"
      },
      "outputs": [],
      "source": [
        "# create database connection\n",
        "gbl_db_conn = DatabaseAccess(DB_CONFIG).getConnection()\n",
        "\n",
        "def season_corpus_save_to_db(item):\n",
        "    global gbl_db_conn\n",
        "    try:\n",
        "        cur = gbl_db_conn.cursor()\n",
        "        cur.execute(\"INSERT INTO public.season_corpus (season, keywords) \\\n",
        "                                                VALUES (%s, %s)\", \\\n",
        "                                                (item.season, item.keywords))\n",
        "        gbl_db_conn.commit()\n",
        "    except (Exception, psycopg2.Error) as error:\n",
        "        print(\"Error inserting data: \", error)\n",
        "    finally:\n",
        "        cur.close()\n",
        "\n",
        "    return\n",
        "\n",
        "def print_data(item):\n",
        "    print(item.keywords)"
      ]
    },
    {
      "cell_type": "code",
      "execution_count": null,
      "id": "74e753ec",
      "metadata": {
        "id": "74e753ec"
      },
      "outputs": [],
      "source": [
        "# store all data into DB\n",
        "res = df_season.apply(season_corpus_save_to_db, axis=1)"
      ]
    },
    {
      "cell_type": "code",
      "execution_count": null,
      "id": "2ba5ec7b",
      "metadata": {
        "id": "2ba5ec7b",
        "outputId": "8d6d880e-78a7-4650-d9f4-bb51516d4130"
      },
      "outputs": [
        {
          "name": "stdout",
          "output_type": "stream",
          "text": [
            "(1266, 3)\n"
          ]
        },
        {
          "data": {
            "text/html": [
              "<div>\n",
              "<style scoped>\n",
              "    .dataframe tbody tr th:only-of-type {\n",
              "        vertical-align: middle;\n",
              "    }\n",
              "\n",
              "    .dataframe tbody tr th {\n",
              "        vertical-align: top;\n",
              "    }\n",
              "\n",
              "    .dataframe thead th {\n",
              "        text-align: right;\n",
              "    }\n",
              "</style>\n",
              "<table border=\"1\" class=\"dataframe\">\n",
              "  <thead>\n",
              "    <tr style=\"text-align: right;\">\n",
              "      <th></th>\n",
              "      <th>season</th>\n",
              "      <th>keywords</th>\n",
              "      <th>created_time</th>\n",
              "    </tr>\n",
              "  </thead>\n",
              "  <tbody>\n",
              "    <tr>\n",
              "      <th>0</th>\n",
              "      <td>Spring</td>\n",
              "      <td>Asparagus</td>\n",
              "      <td>2023-06-17 00:11:27.429066</td>\n",
              "    </tr>\n",
              "    <tr>\n",
              "      <th>1</th>\n",
              "      <td>Spring</td>\n",
              "      <td>Peas</td>\n",
              "      <td>2023-06-17 00:11:27.431010</td>\n",
              "    </tr>\n",
              "    <tr>\n",
              "      <th>2</th>\n",
              "      <td>Spring</td>\n",
              "      <td>Radishes</td>\n",
              "      <td>2023-06-17 00:11:27.431540</td>\n",
              "    </tr>\n",
              "    <tr>\n",
              "      <th>3</th>\n",
              "      <td>Spring</td>\n",
              "      <td>Rhubarb</td>\n",
              "      <td>2023-06-17 00:11:27.431990</td>\n",
              "    </tr>\n",
              "    <tr>\n",
              "      <th>4</th>\n",
              "      <td>Spring</td>\n",
              "      <td>Fava beans</td>\n",
              "      <td>2023-06-17 00:11:27.432554</td>\n",
              "    </tr>\n",
              "  </tbody>\n",
              "</table>\n",
              "</div>"
            ],
            "text/plain": [
              "   season     keywords               created_time\n",
              "0  Spring    Asparagus 2023-06-17 00:11:27.429066\n",
              "1  Spring         Peas 2023-06-17 00:11:27.431010\n",
              "2  Spring     Radishes 2023-06-17 00:11:27.431540\n",
              "3  Spring      Rhubarb 2023-06-17 00:11:27.431990\n",
              "4  Spring   Fava beans 2023-06-17 00:11:27.432554"
            ]
          },
          "execution_count": 62,
          "metadata": {},
          "output_type": "execute_result"
        }
      ],
      "source": [
        "# read db and validate stored dataset\n",
        "df_season_sql = pd.read_sql_query('select * from \"season_corpus\"',con=gbl_db_conn)\n",
        "print(df_season_sql.shape)\n",
        "df_season_sql.head()"
      ]
    },
    {
      "cell_type": "code",
      "execution_count": null,
      "id": "b2b6e4f2",
      "metadata": {
        "id": "b2b6e4f2"
      },
      "outputs": [],
      "source": [
        "gbl_db_conn.close()"
      ]
    },
    {
      "cell_type": "code",
      "execution_count": null,
      "id": "24a652cc",
      "metadata": {
        "id": "24a652cc"
      },
      "outputs": [],
      "source": []
    }
  ],
  "metadata": {
    "kernelspec": {
      "display_name": "Python 3 (ipykernel)",
      "language": "python",
      "name": "python3"
    },
    "language_info": {
      "codemirror_mode": {
        "name": "ipython",
        "version": 3
      },
      "file_extension": ".py",
      "mimetype": "text/x-python",
      "name": "python",
      "nbconvert_exporter": "python",
      "pygments_lexer": "ipython3",
      "version": "3.9.13"
    },
    "colab": {
      "provenance": []
    }
  },
  "nbformat": 4,
  "nbformat_minor": 5
}