{
  "cells": [
    {
      "cell_type": "markdown",
      "id": "f9592c4c",
      "metadata": {
        "id": "f9592c4c"
      },
      "source": [
        "## Data migration from Local DB to GCP Cloud DB"
      ]
    },
    {
      "cell_type": "code",
      "execution_count": null,
      "id": "e6350f2e",
      "metadata": {
        "id": "e6350f2e"
      },
      "outputs": [],
      "source": [
        "# import all common necessary packages\n",
        "import pandas as pd\n",
        "import numpy as np\n",
        "import json\n",
        "import re\n",
        "import ast\n",
        "\n",
        "# for postgres SQL database\n",
        "import psycopg2\n",
        "\n",
        "import warnings\n",
        "warnings.filterwarnings('ignore')"
      ]
    },
    {
      "cell_type": "markdown",
      "id": "162816d6",
      "metadata": {
        "id": "162816d6"
      },
      "source": [
        "### Configuration"
      ]
    },
    {
      "cell_type": "code",
      "execution_count": null,
      "id": "5af10e29",
      "metadata": {
        "id": "5af10e29"
      },
      "outputs": [],
      "source": [
        "import logging\n",
        "\n",
        "VERSION = \"v0.1.0\"\n",
        "RELEASE_DATE = \"16 Jan 2024\"\n",
        "\n",
        "##### DATABASE RELATED #####\n",
        "DB_CONFIG_LOCAL = {\n",
        "    \"dbname\": \"food_db\",\n",
        "    \"host\": \"localhost\",\n",
        "    \"port\": 5432,\n",
        "    \"username\": \"postgres\",\n",
        "    \"password\": \"postgres\"\n",
        "}\n",
        "\n",
        "DB_CONFIG_CLOUD = {\n",
        "    \"dbname\": \"food_db\",\n",
        "    \"host\": \"\",\n",
        "    \"port\": 5432,\n",
        "    \"username\": \"postgres\",\n",
        "    \"password\": \"\"\n",
        "}\n"
      ]
    },
    {
      "cell_type": "markdown",
      "id": "c73e67ee",
      "metadata": {
        "id": "c73e67ee"
      },
      "source": [
        "### Database Functions"
      ]
    },
    {
      "cell_type": "code",
      "execution_count": null,
      "id": "1f1cf1bf",
      "metadata": {
        "id": "1f1cf1bf"
      },
      "outputs": [],
      "source": [
        "class DatabaseAccess:\n",
        "    def __init__(self, db_config):\n",
        "        self.conn = psycopg2.connect(\n",
        "                            database=db_config['dbname'],\n",
        "                            user=db_config['username'],\n",
        "                            password=db_config['password'],\n",
        "                            host=db_config['host'],\n",
        "                            port=db_config['port'])\n",
        "    def getConnection(self):\n",
        "        return self.conn"
      ]
    },
    {
      "cell_type": "markdown",
      "id": "40cf2282",
      "metadata": {
        "id": "40cf2282"
      },
      "source": [
        "### Copying food_data from local to GCP"
      ]
    },
    {
      "cell_type": "code",
      "execution_count": null,
      "id": "c21963ab",
      "metadata": {
        "id": "c21963ab"
      },
      "outputs": [],
      "source": [
        "# read food_data from db\n",
        "db_conn_local = DatabaseAccess(DB_CONFIG_LOCAL).getConnection()\n",
        "df_food_data_local_db = pd.read_sql_query('select * from \"food_data\"',con=db_conn_local)"
      ]
    },
    {
      "cell_type": "code",
      "execution_count": null,
      "id": "05761c9a",
      "metadata": {
        "id": "05761c9a",
        "outputId": "4f81b743-d253-4324-8d88-dfa289bf47a8"
      },
      "outputs": [
        {
          "data": {
            "text/plain": [
              "(238763, 17)"
            ]
          },
          "execution_count": 5,
          "metadata": {},
          "output_type": "execute_result"
        }
      ],
      "source": [
        "df_food_data_local_db.shape"
      ]
    },
    {
      "cell_type": "code",
      "execution_count": null,
      "id": "e90234a5",
      "metadata": {
        "id": "e90234a5"
      },
      "outputs": [],
      "source": [
        "# create database connection\n",
        "db_conn_cloud = DatabaseAccess(DB_CONFIG_CLOUD).getConnection()\n",
        "\n",
        "def food_data_save_to_cloud_db(item):\n",
        "    global db_conn_cloud\n",
        "    try:\n",
        "        cur = db_conn_cloud.cursor()\n",
        "        cur.execute(\"INSERT INTO public.food_data (food_id, food_name, food_description, ingredients, ingredients_clean, nutrition, veg_or_non_veg, allergies, cuisine, course, diet, state, region, seasons, dietary_restrictions, data_source) \\\n",
        "                                                VALUES (%s, %s, %s, %s, %s, %s, %s, %s, %s, %s, %s, %s, %s, %s, %s, %s)\", \\\n",
        "                                                (item.food_id, item.food_name, item.food_description, item.ingredients, item.ingredients_clean, item.nutrition, item.veg_or_non_veg, item.allergies, item.cuisine, item.course, item.diet, item.state, item.region, item.seasons, item.dietary_restrictions, item.data_source))\n",
        "        db_conn_cloud.commit()\n",
        "    except (Exception, psycopg2.Error) as error:\n",
        "        print(\"Error inserting data: \", error)\n",
        "    finally:\n",
        "        cur.close()\n",
        "\n",
        "    return"
      ]
    },
    {
      "cell_type": "code",
      "execution_count": null,
      "id": "075b67e9",
      "metadata": {
        "id": "075b67e9"
      },
      "outputs": [],
      "source": [
        "# store all data into DB\n",
        "res = df_food_data_local_db.apply(food_data_save_to_cloud_db, axis=1)"
      ]
    },
    {
      "cell_type": "code",
      "execution_count": null,
      "id": "7eb01edb",
      "metadata": {
        "id": "7eb01edb"
      },
      "outputs": [],
      "source": [
        "# read food_data from db\n",
        "df_food_data_cloud_db = pd.read_sql_query('select * from \"food_data\"',con=db_conn_cloud)\n",
        "df_food_data_cloud_db.shape"
      ]
    },
    {
      "cell_type": "code",
      "execution_count": null,
      "id": "07b16ff7",
      "metadata": {
        "id": "07b16ff7"
      },
      "outputs": [],
      "source": [
        "db_conn_local.close()\n",
        "db_conn_cloud.close()"
      ]
    },
    {
      "cell_type": "code",
      "execution_count": null,
      "id": "fa0f4bf9",
      "metadata": {
        "id": "fa0f4bf9"
      },
      "outputs": [],
      "source": []
    }
  ],
  "metadata": {
    "kernelspec": {
      "display_name": "Python 3 (ipykernel)",
      "language": "python",
      "name": "python3"
    },
    "language_info": {
      "codemirror_mode": {
        "name": "ipython",
        "version": 3
      },
      "file_extension": ".py",
      "mimetype": "text/x-python",
      "name": "python",
      "nbconvert_exporter": "python",
      "pygments_lexer": "ipython3",
      "version": "3.9.13"
    },
    "colab": {
      "provenance": []
    }
  },
  "nbformat": 4,
  "nbformat_minor": 5
}