{
  "cells": [
    {
      "cell_type": "code",
      "execution_count": null,
      "id": "ee6339c7",
      "metadata": {
        "id": "ee6339c7"
      },
      "outputs": [],
      "source": [
        "# import all common necessary packages\n",
        "import pandas as pd\n",
        "import numpy as np\n",
        "import json\n",
        "import re\n",
        "import ast\n",
        "\n",
        "# for postgres SQL database\n",
        "import psycopg2\n",
        "\n",
        "import warnings\n",
        "warnings.filterwarnings('ignore')"
      ]
    },
    {
      "cell_type": "markdown",
      "id": "bad31419",
      "metadata": {
        "id": "bad31419"
      },
      "source": [
        "## Common Utility Function for\n",
        "- creating unique ingredient corpus from dataset\n",
        "- tagging each food itens for seasons"
      ]
    },
    {
      "cell_type": "markdown",
      "id": "d22cefd9",
      "metadata": {
        "id": "d22cefd9"
      },
      "source": [
        "### Configuration"
      ]
    },
    {
      "cell_type": "code",
      "execution_count": null,
      "id": "5ed393c5",
      "metadata": {
        "id": "5ed393c5"
      },
      "outputs": [],
      "source": [
        "import logging\n",
        "\n",
        "VERSION = \"v0.1.0\"\n",
        "RELEASE_DATE = \"16 Jun 2023\"\n",
        "\n",
        "##### DATABASE RELATED #####\n",
        "DB_CONFIG_LOCAL = {\n",
        "    \"dbname\": \"food_db\",\n",
        "    \"host\": \"localhost\",\n",
        "    \"port\": 5432,\n",
        "    \"username\": \"postgres\",\n",
        "    \"password\": \"postgres\"\n",
        "}\n",
        "\n",
        "DB_CONFIG_CLOUD = {\n",
        "    \"dbname\": \"food_db\",\n",
        "    \"host\": \"\",\n",
        "    \"port\": 5432,\n",
        "    \"username\": \"postgres\",\n",
        "    \"password\": \"\"\n",
        "}\n",
        "\n",
        "# select which database (local or cloud)\n",
        "DB_CONFIG = DB_CONFIG_LOCAL"
      ]
    },
    {
      "cell_type": "markdown",
      "id": "20edeb49",
      "metadata": {
        "id": "20edeb49"
      },
      "source": [
        "### Database Functions"
      ]
    },
    {
      "cell_type": "code",
      "execution_count": null,
      "id": "be7d2065",
      "metadata": {
        "id": "be7d2065"
      },
      "outputs": [],
      "source": [
        "class DatabaseAccess:\n",
        "    def __init__(self, db_config):\n",
        "        self.conn = psycopg2.connect(\n",
        "                            database=db_config['dbname'],\n",
        "                            user=db_config['username'],\n",
        "                            password=db_config['password'],\n",
        "                            host=db_config['host'],\n",
        "                            port=db_config['port'])\n",
        "    def getConnection(self):\n",
        "        return self.conn"
      ]
    },
    {
      "cell_type": "code",
      "execution_count": null,
      "id": "31613ce0",
      "metadata": {
        "id": "31613ce0"
      },
      "outputs": [],
      "source": [
        "# create database connection\n",
        "gbl_db_conn = DatabaseAccess(DB_CONFIG).getConnection()"
      ]
    },
    {
      "cell_type": "markdown",
      "id": "b9f568c4",
      "metadata": {
        "id": "b9f568c4"
      },
      "source": [
        "### Read food_data from Database"
      ]
    },
    {
      "cell_type": "code",
      "execution_count": null,
      "id": "1a24d0ef",
      "metadata": {
        "id": "1a24d0ef"
      },
      "outputs": [],
      "source": [
        "# read food_data from db\n",
        "df_food_data_sql = pd.read_sql_query('select * from \"food_data\"',con=gbl_db_conn)"
      ]
    },
    {
      "cell_type": "code",
      "execution_count": null,
      "id": "42a7416e",
      "metadata": {
        "id": "42a7416e",
        "outputId": "29a4b58e-1422-4c6f-f741-ca51a97dbb0e"
      },
      "outputs": [
        {
          "name": "stdout",
          "output_type": "stream",
          "text": [
            "df_food_data_sql shape:  (238763, 16)\n"
          ]
        }
      ],
      "source": [
        "print(\"df_food_data_sql shape: \", df_food_data_sql.shape)"
      ]
    },
    {
      "cell_type": "code",
      "execution_count": null,
      "id": "a2950f06",
      "metadata": {
        "id": "a2950f06",
        "outputId": "8e812fd8-9c6c-425e-f9d3-1e8cf6aaa77d"
      },
      "outputs": [
        {
          "data": {
            "text/html": [
              "<div>\n",
              "<style scoped>\n",
              "    .dataframe tbody tr th:only-of-type {\n",
              "        vertical-align: middle;\n",
              "    }\n",
              "\n",
              "    .dataframe tbody tr th {\n",
              "        vertical-align: top;\n",
              "    }\n",
              "\n",
              "    .dataframe thead th {\n",
              "        text-align: right;\n",
              "    }\n",
              "</style>\n",
              "<table border=\"1\" class=\"dataframe\">\n",
              "  <thead>\n",
              "    <tr style=\"text-align: right;\">\n",
              "      <th></th>\n",
              "      <th>Unnamed: 0</th>\n",
              "      <th>food_id</th>\n",
              "      <th>food_name</th>\n",
              "      <th>food_description</th>\n",
              "      <th>ingredients</th>\n",
              "      <th>nutrition</th>\n",
              "      <th>veg_or_non_veg</th>\n",
              "      <th>allergies</th>\n",
              "      <th>cuisine</th>\n",
              "      <th>course</th>\n",
              "      <th>diet</th>\n",
              "      <th>state</th>\n",
              "      <th>region</th>\n",
              "      <th>seasons</th>\n",
              "      <th>data_source</th>\n",
              "      <th>created_time</th>\n",
              "    </tr>\n",
              "  </thead>\n",
              "  <tbody>\n",
              "    <tr>\n",
              "      <th>0</th>\n",
              "      <td>0</td>\n",
              "      <td>87867</td>\n",
              "      <td>greek yogurt cake with raisin syrup</td>\n",
              "      <td>this is a fabulous greek cake. you wont regret...</td>\n",
              "      <td>['raisins', 'brandy', 'ouzo', 'lemon juice', '...</td>\n",
              "      <td>['3665.2', '142.0', '1533.0', '83.0', '115.0',...</td>\n",
              "      <td>non-veg</td>\n",
              "      <td>['citrus', 'honey', 'milk', 'lactose', 'poultr...</td>\n",
              "      <td>NaN</td>\n",
              "      <td>NaN</td>\n",
              "      <td>NaN</td>\n",
              "      <td>NaN</td>\n",
              "      <td>NaN</td>\n",
              "      <td>[]</td>\n",
              "      <td>raw_recipes</td>\n",
              "      <td>2023-06-17 00:43:04.231724</td>\n",
              "    </tr>\n",
              "    <tr>\n",
              "      <th>1</th>\n",
              "      <td>1</td>\n",
              "      <td>507638</td>\n",
              "      <td>greek yogurt chicken</td>\n",
              "      <td>hubby brought this recipe home from work.</td>\n",
              "      <td>['chicken breasts', 'parmesan cheese', 'breadc...</td>\n",
              "      <td>['358.2', '27.0', '3.0', '15.0', '73.0', '30.0...</td>\n",
              "      <td>non-veg</td>\n",
              "      <td>['milk', 'lactose', 'poultry', 'dairy']</td>\n",
              "      <td>NaN</td>\n",
              "      <td>NaN</td>\n",
              "      <td>NaN</td>\n",
              "      <td>NaN</td>\n",
              "      <td>NaN</td>\n",
              "      <td>[]</td>\n",
              "      <td>raw_recipes</td>\n",
              "      <td>2023-06-17 00:43:04.232004</td>\n",
              "    </tr>\n",
              "    <tr>\n",
              "      <th>2</th>\n",
              "      <td>2</td>\n",
              "      <td>422389</td>\n",
              "      <td>greek yogurt dessert with honey and strawberries</td>\n",
              "      <td>healthy and low fat.</td>\n",
              "      <td>['greek yogurt', 'honey', 'strawberries', 'nuts']</td>\n",
              "      <td>['11.5', '0.0', '7.0', '0.0', '0.0', '0.0', '0...</td>\n",
              "      <td>veg</td>\n",
              "      <td>['honey', 'dairy']</td>\n",
              "      <td>NaN</td>\n",
              "      <td>NaN</td>\n",
              "      <td>NaN</td>\n",
              "      <td>NaN</td>\n",
              "      <td>NaN</td>\n",
              "      <td>[]</td>\n",
              "      <td>raw_recipes</td>\n",
              "      <td>2023-06-17 00:43:04.232257</td>\n",
              "    </tr>\n",
              "    <tr>\n",
              "      <th>3</th>\n",
              "      <td>3</td>\n",
              "      <td>427998</td>\n",
              "      <td>greek yogurt pancakes</td>\n",
              "      <td>a recipe posted for zwt - greece.  from the pi...</td>\n",
              "      <td>['greek yogurt', 'all-purpose flour', 'sugar',...</td>\n",
              "      <td>['32.6', '1.0', '4.0', '5.0', '3.0', '1.0', '1...</td>\n",
              "      <td>non-veg</td>\n",
              "      <td>['gluten', 'poultry', 'sugar', 'dairy']</td>\n",
              "      <td>NaN</td>\n",
              "      <td>NaN</td>\n",
              "      <td>NaN</td>\n",
              "      <td>NaN</td>\n",
              "      <td>NaN</td>\n",
              "      <td>[]</td>\n",
              "      <td>raw_recipes</td>\n",
              "      <td>2023-06-17 00:43:04.232513</td>\n",
              "    </tr>\n",
              "    <tr>\n",
              "      <th>4</th>\n",
              "      <td>4</td>\n",
              "      <td>293735</td>\n",
              "      <td>greek yogurt parfait</td>\n",
              "      <td>if you're not worried about going vegan, the s...</td>\n",
              "      <td>['soy yogurt', 'vanilla extract', 'honey', 'cl...</td>\n",
              "      <td>['310.8', '6.0', '215.0', '0.0', '11.0', '2.0'...</td>\n",
              "      <td>veg</td>\n",
              "      <td>['honey', 'soy', 'dairy']</td>\n",
              "      <td>NaN</td>\n",
              "      <td>NaN</td>\n",
              "      <td>NaN</td>\n",
              "      <td>NaN</td>\n",
              "      <td>NaN</td>\n",
              "      <td>[]</td>\n",
              "      <td>raw_recipes</td>\n",
              "      <td>2023-06-17 00:43:04.232770</td>\n",
              "    </tr>\n",
              "  </tbody>\n",
              "</table>\n",
              "</div>"
            ],
            "text/plain": [
              "   Unnamed: 0  food_id                                         food_name  \\\n",
              "0           0    87867               greek yogurt cake with raisin syrup   \n",
              "1           1   507638                              greek yogurt chicken   \n",
              "2           2   422389  greek yogurt dessert with honey and strawberries   \n",
              "3           3   427998                             greek yogurt pancakes   \n",
              "4           4   293735                              greek yogurt parfait   \n",
              "\n",
              "                                    food_description  \\\n",
              "0  this is a fabulous greek cake. you wont regret...   \n",
              "1          hubby brought this recipe home from work.   \n",
              "2                               healthy and low fat.   \n",
              "3  a recipe posted for zwt - greece.  from the pi...   \n",
              "4  if you're not worried about going vegan, the s...   \n",
              "\n",
              "                                         ingredients  \\\n",
              "0  ['raisins', 'brandy', 'ouzo', 'lemon juice', '...   \n",
              "1  ['chicken breasts', 'parmesan cheese', 'breadc...   \n",
              "2  ['greek yogurt', 'honey', 'strawberries', 'nuts']   \n",
              "3  ['greek yogurt', 'all-purpose flour', 'sugar',...   \n",
              "4  ['soy yogurt', 'vanilla extract', 'honey', 'cl...   \n",
              "\n",
              "                                           nutrition veg_or_non_veg  \\\n",
              "0  ['3665.2', '142.0', '1533.0', '83.0', '115.0',...        non-veg   \n",
              "1  ['358.2', '27.0', '3.0', '15.0', '73.0', '30.0...        non-veg   \n",
              "2  ['11.5', '0.0', '7.0', '0.0', '0.0', '0.0', '0...            veg   \n",
              "3  ['32.6', '1.0', '4.0', '5.0', '3.0', '1.0', '1...        non-veg   \n",
              "4  ['310.8', '6.0', '215.0', '0.0', '11.0', '2.0'...            veg   \n",
              "\n",
              "                                           allergies cuisine course diet  \\\n",
              "0  ['citrus', 'honey', 'milk', 'lactose', 'poultr...     NaN    NaN  NaN   \n",
              "1            ['milk', 'lactose', 'poultry', 'dairy']     NaN    NaN  NaN   \n",
              "2                                 ['honey', 'dairy']     NaN    NaN  NaN   \n",
              "3            ['gluten', 'poultry', 'sugar', 'dairy']     NaN    NaN  NaN   \n",
              "4                          ['honey', 'soy', 'dairy']     NaN    NaN  NaN   \n",
              "\n",
              "  state region seasons  data_source                created_time  \n",
              "0   NaN    NaN      []  raw_recipes  2023-06-17 00:43:04.231724  \n",
              "1   NaN    NaN      []  raw_recipes  2023-06-17 00:43:04.232004  \n",
              "2   NaN    NaN      []  raw_recipes  2023-06-17 00:43:04.232257  \n",
              "3   NaN    NaN      []  raw_recipes  2023-06-17 00:43:04.232513  \n",
              "4   NaN    NaN      []  raw_recipes  2023-06-17 00:43:04.232770  "
            ]
          },
          "execution_count": 44,
          "metadata": {},
          "output_type": "execute_result"
        }
      ],
      "source": [
        "df_food_data_sql.head()"
      ]
    },
    {
      "cell_type": "markdown",
      "id": "5ba552ce",
      "metadata": {
        "id": "5ba552ce"
      },
      "source": [
        "## Find unique ingredients keywords"
      ]
    },
    {
      "cell_type": "code",
      "execution_count": null,
      "id": "0b4daa83",
      "metadata": {
        "id": "0b4daa83"
      },
      "outputs": [],
      "source": [
        "# build the unique vocabulary\n",
        "INGR_CORPUS = set()\n",
        "res = df_food_data_sql[\"ingredients\"].apply(lambda words: INGR_CORPUS.update(words))"
      ]
    },
    {
      "cell_type": "code",
      "execution_count": null,
      "id": "d9f68224",
      "metadata": {
        "id": "d9f68224"
      },
      "outputs": [],
      "source": [
        "# remove any empty string elemtn\n",
        "INGR_CORPUS.remove(\"\")"
      ]
    },
    {
      "cell_type": "code",
      "execution_count": null,
      "id": "1821f7aa",
      "metadata": {
        "id": "1821f7aa"
      },
      "outputs": [],
      "source": [
        "INGR_CORPUS = [word.lower() for word in INGR_CORPUS]"
      ]
    },
    {
      "cell_type": "code",
      "execution_count": null,
      "id": "987c132b",
      "metadata": {
        "id": "987c132b"
      },
      "outputs": [],
      "source": [
        "df_ingr_keywords = pd.DataFrame(zip(range(0, len(INGR_CORPUS)), INGR_CORPUS), columns=[\"sno\", \"keywords\"])"
      ]
    },
    {
      "cell_type": "code",
      "execution_count": null,
      "id": "663041f0",
      "metadata": {
        "id": "663041f0",
        "outputId": "9607e20f-7481-4ce9-c9b4-7f2d9a61303a"
      },
      "outputs": [
        {
          "name": "stdout",
          "output_type": "stream",
          "text": [
            "df_ingr_keywords shape:  (28734, 2)\n"
          ]
        },
        {
          "data": {
            "text/html": [
              "<div>\n",
              "<style scoped>\n",
              "    .dataframe tbody tr th:only-of-type {\n",
              "        vertical-align: middle;\n",
              "    }\n",
              "\n",
              "    .dataframe tbody tr th {\n",
              "        vertical-align: top;\n",
              "    }\n",
              "\n",
              "    .dataframe thead th {\n",
              "        text-align: right;\n",
              "    }\n",
              "</style>\n",
              "<table border=\"1\" class=\"dataframe\">\n",
              "  <thead>\n",
              "    <tr style=\"text-align: right;\">\n",
              "      <th></th>\n",
              "      <th>sno</th>\n",
              "      <th>keywords</th>\n",
              "    </tr>\n",
              "  </thead>\n",
              "  <tbody>\n",
              "    <tr>\n",
              "      <th>0</th>\n",
              "      <td>0</td>\n",
              "      <td>tiny pasta</td>\n",
              "    </tr>\n",
              "    <tr>\n",
              "      <th>1</th>\n",
              "      <td>1</td>\n",
              "      <td>chocolate ice cream cones</td>\n",
              "    </tr>\n",
              "    <tr>\n",
              "      <th>2</th>\n",
              "      <td>2</td>\n",
              "      <td>बड़ा चम्मच हरा धनिया काट</td>\n",
              "    </tr>\n",
              "    <tr>\n",
              "      <th>3</th>\n",
              "      <td>3</td>\n",
              "      <td>sour apple liqueur</td>\n",
              "    </tr>\n",
              "    <tr>\n",
              "      <th>4</th>\n",
              "      <td>4</td>\n",
              "      <td>पानी वेजिटेबल स्टॉक</td>\n",
              "    </tr>\n",
              "  </tbody>\n",
              "</table>\n",
              "</div>"
            ],
            "text/plain": [
              "   sno                   keywords\n",
              "0    0                 tiny pasta\n",
              "1    1  chocolate ice cream cones\n",
              "2    2    बड़ा चम्मच हरा धनिया काट\n",
              "3    3         sour apple liqueur\n",
              "4    4        पानी वेजिटेबल स्टॉक"
            ]
          },
          "execution_count": 12,
          "metadata": {},
          "output_type": "execute_result"
        }
      ],
      "source": [
        "print(\"df_ingr_keywords shape: \", df_ingr_keywords.shape)\n",
        "df_ingr_keywords.head()"
      ]
    },
    {
      "cell_type": "code",
      "execution_count": null,
      "id": "2cc35ae6",
      "metadata": {
        "id": "2cc35ae6"
      },
      "outputs": [],
      "source": [
        "df_ingr_keywords.to_csv(\"./data/processed/ingredients_keywords.csv\", index=False)"
      ]
    },
    {
      "cell_type": "markdown",
      "id": "047adca4",
      "metadata": {
        "id": "047adca4"
      },
      "source": [
        "#### save ingredient keyword into Database"
      ]
    },
    {
      "cell_type": "raw",
      "id": "35648526",
      "metadata": {
        "id": "35648526"
      },
      "source": [
        "# db schema for table: ingredients_keywords\n",
        "\n",
        "CREATE TABLE public.ingredients_keywords (\n",
        "\tsno integer NULL,\n",
        "\tkeywords text null,\n",
        "\tcreated_time timestamp NOT NULL DEFAULT CURRENT_TIMESTAMP\n",
        ");\n"
      ]
    },
    {
      "cell_type": "code",
      "execution_count": null,
      "id": "47736e2c",
      "metadata": {
        "id": "47736e2c"
      },
      "outputs": [],
      "source": [
        "# create database connection\n",
        "gbl_db_conn = DatabaseAccess(DB_CONFIG).getConnection()\n",
        "\n",
        "def ingredients_keywords_save_to_db(item):\n",
        "    global gbl_db_conn\n",
        "    try:\n",
        "        cur = gbl_db_conn.cursor()\n",
        "        cur.execute(\"INSERT INTO public.ingredients_keywords (sno, keywords) \\\n",
        "                                                VALUES (%s, %s)\", \\\n",
        "                                                (item.sno, item.keywords))\n",
        "        gbl_db_conn.commit()\n",
        "    except (Exception, psycopg2.Error) as error:\n",
        "        print(\"Error inserting data: \", error)\n",
        "    finally:\n",
        "        cur.close()\n",
        "\n",
        "    return\n",
        "\n",
        "def print_data(item):\n",
        "    print(item.keywords)"
      ]
    },
    {
      "cell_type": "code",
      "execution_count": null,
      "id": "7fc3dae3",
      "metadata": {
        "id": "7fc3dae3"
      },
      "outputs": [],
      "source": [
        "# store all data into DB\n",
        "#res = df_ingr_keywords.apply(ingredients_keywords_save_to_db, axis=1)"
      ]
    },
    {
      "cell_type": "code",
      "execution_count": null,
      "id": "fa2bee3a",
      "metadata": {
        "id": "fa2bee3a",
        "outputId": "6428cfbc-90f6-4842-e855-3009cea5ec1d"
      },
      "outputs": [
        {
          "name": "stdout",
          "output_type": "stream",
          "text": [
            "(28734, 3)\n"
          ]
        },
        {
          "data": {
            "text/html": [
              "<div>\n",
              "<style scoped>\n",
              "    .dataframe tbody tr th:only-of-type {\n",
              "        vertical-align: middle;\n",
              "    }\n",
              "\n",
              "    .dataframe tbody tr th {\n",
              "        vertical-align: top;\n",
              "    }\n",
              "\n",
              "    .dataframe thead th {\n",
              "        text-align: right;\n",
              "    }\n",
              "</style>\n",
              "<table border=\"1\" class=\"dataframe\">\n",
              "  <thead>\n",
              "    <tr style=\"text-align: right;\">\n",
              "      <th></th>\n",
              "      <th>sno</th>\n",
              "      <th>keywords</th>\n",
              "      <th>created_time</th>\n",
              "    </tr>\n",
              "  </thead>\n",
              "  <tbody>\n",
              "    <tr>\n",
              "      <th>0</th>\n",
              "      <td>0</td>\n",
              "      <td>tiny pasta</td>\n",
              "      <td>2023-06-17 00:52:19.602177</td>\n",
              "    </tr>\n",
              "    <tr>\n",
              "      <th>1</th>\n",
              "      <td>1</td>\n",
              "      <td>chocolate ice cream cones</td>\n",
              "      <td>2023-06-17 00:52:19.611537</td>\n",
              "    </tr>\n",
              "    <tr>\n",
              "      <th>2</th>\n",
              "      <td>2</td>\n",
              "      <td>बड़ा चम्मच हरा धनिया काट</td>\n",
              "      <td>2023-06-17 00:52:19.612320</td>\n",
              "    </tr>\n",
              "    <tr>\n",
              "      <th>3</th>\n",
              "      <td>3</td>\n",
              "      <td>sour apple liqueur</td>\n",
              "      <td>2023-06-17 00:52:19.612907</td>\n",
              "    </tr>\n",
              "    <tr>\n",
              "      <th>4</th>\n",
              "      <td>4</td>\n",
              "      <td>पानी वेजिटेबल स्टॉक</td>\n",
              "      <td>2023-06-17 00:52:19.613693</td>\n",
              "    </tr>\n",
              "  </tbody>\n",
              "</table>\n",
              "</div>"
            ],
            "text/plain": [
              "   sno                   keywords               created_time\n",
              "0    0                 tiny pasta 2023-06-17 00:52:19.602177\n",
              "1    1  chocolate ice cream cones 2023-06-17 00:52:19.611537\n",
              "2    2    बड़ा चम्मच हरा धनिया काट 2023-06-17 00:52:19.612320\n",
              "3    3         sour apple liqueur 2023-06-17 00:52:19.612907\n",
              "4    4        पानी वेजिटेबल स्टॉक 2023-06-17 00:52:19.613693"
            ]
          },
          "execution_count": 18,
          "metadata": {},
          "output_type": "execute_result"
        }
      ],
      "source": [
        "# read db and validate stored dataset\n",
        "df_ingr_keywords_sql = pd.read_sql_query('select * from \"ingredients_keywords\"',con=gbl_db_conn)\n",
        "print(df_ingr_keywords_sql.shape)\n",
        "df_ingr_keywords_sql.head()"
      ]
    },
    {
      "cell_type": "code",
      "execution_count": null,
      "id": "81427420",
      "metadata": {
        "id": "81427420"
      },
      "outputs": [],
      "source": [
        "gbl_db_conn.close()"
      ]
    },
    {
      "cell_type": "markdown",
      "id": "71debee2",
      "metadata": {
        "id": "71debee2"
      },
      "source": [
        "## Tag seasons"
      ]
    },
    {
      "cell_type": "code",
      "execution_count": null,
      "id": "100449d7",
      "metadata": {
        "id": "100449d7"
      },
      "outputs": [],
      "source": [
        "import re\n",
        "\n",
        "def detect_season(text):\n",
        "    season_keywords = {\n",
        "        \"spring\": [\"spring\", \"bloom\", \"flowers\", \"warm\"],\n",
        "        \"summer\": [\"summer\", \"hot\", \"sun\", \"beach\"],\n",
        "        \"autumn\": [\"autumn\", \"fall\", \"leaves\", \"cold\", \"harvest\", \"rainy\"],\n",
        "        \"winter\": [\"winter\", \"snow\", \"christmas\", \"cold\", \"freeze\"]\n",
        "    }\n",
        "\n",
        "    cleaned_text = re.sub(r'\\W+', ' ', text)  # Remove non-alphanumeric characters\n",
        "    tokenized_text = cleaned_text.lower().split()  # Tokenize the text\n",
        "\n",
        "    found_seasons = []\n",
        "    for season, keywords in season_keywords.items():\n",
        "        for keyword in keywords:\n",
        "            if keyword in tokenized_text:\n",
        "                found_seasons.append(season)\n",
        "                break\n",
        "\n",
        "    #return \", \".join(found_seasons) if found_seasons else \"none\"\n",
        "    return found_seasons\n",
        "\n",
        "# Convert the 'description' column to string type\n",
        "df_food_data_sql['food_description'] = df_food_data_sql['food_description'].astype(str)\n",
        "\n",
        "# Apply the function to the 'description' column in the dataset\n",
        "df_food_data_sql['seasons'] = df_food_data_sql['food_description'].apply(detect_season)"
      ]
    },
    {
      "cell_type": "code",
      "execution_count": null,
      "id": "cc24de6a",
      "metadata": {
        "id": "cc24de6a",
        "outputId": "a83febdc-09bc-4b03-f4eb-4fc11c854f45"
      },
      "outputs": [
        {
          "data": {
            "text/html": [
              "<div>\n",
              "<style scoped>\n",
              "    .dataframe tbody tr th:only-of-type {\n",
              "        vertical-align: middle;\n",
              "    }\n",
              "\n",
              "    .dataframe tbody tr th {\n",
              "        vertical-align: top;\n",
              "    }\n",
              "\n",
              "    .dataframe thead th {\n",
              "        text-align: right;\n",
              "    }\n",
              "</style>\n",
              "<table border=\"1\" class=\"dataframe\">\n",
              "  <thead>\n",
              "    <tr style=\"text-align: right;\">\n",
              "      <th></th>\n",
              "      <th>food_id</th>\n",
              "      <th>food_name</th>\n",
              "      <th>food_description</th>\n",
              "      <th>ingredients</th>\n",
              "      <th>nutrition</th>\n",
              "      <th>veg_or_non_veg</th>\n",
              "      <th>allergies</th>\n",
              "      <th>cuisine</th>\n",
              "      <th>course</th>\n",
              "      <th>diet</th>\n",
              "      <th>state</th>\n",
              "      <th>region</th>\n",
              "      <th>seasons</th>\n",
              "      <th>data_source</th>\n",
              "      <th>created_time</th>\n",
              "    </tr>\n",
              "  </thead>\n",
              "  <tbody>\n",
              "    <tr>\n",
              "      <th>0</th>\n",
              "      <td>87867</td>\n",
              "      <td>greek yogurt cake with raisin syrup</td>\n",
              "      <td>this is a fabulous greek cake. you wont regret...</td>\n",
              "      <td>[raisins, brandy, ouzo, lemon juice, water, su...</td>\n",
              "      <td>[3665.2, 142.0, 1533.0, 83.0, 115.0, 252.0, 20...</td>\n",
              "      <td>non-veg</td>\n",
              "      <td>[citrus, honey, milk, lactose, poultry, sugar,...</td>\n",
              "      <td>NaN</td>\n",
              "      <td>NaN</td>\n",
              "      <td>NaN</td>\n",
              "      <td>NaN</td>\n",
              "      <td>NaN</td>\n",
              "      <td>[]</td>\n",
              "      <td>raw_recipes</td>\n",
              "      <td>2023-06-17 00:43:04.231724</td>\n",
              "    </tr>\n",
              "    <tr>\n",
              "      <th>1</th>\n",
              "      <td>507638</td>\n",
              "      <td>greek yogurt chicken</td>\n",
              "      <td>hubby brought this recipe home from work.</td>\n",
              "      <td>[chicken breasts, parmesan cheese, breadcrumbs...</td>\n",
              "      <td>[358.2, 27.0, 3.0, 15.0, 73.0, 30.0, 3.0]</td>\n",
              "      <td>non-veg</td>\n",
              "      <td>[milk, lactose, poultry, dairy]</td>\n",
              "      <td>NaN</td>\n",
              "      <td>NaN</td>\n",
              "      <td>NaN</td>\n",
              "      <td>NaN</td>\n",
              "      <td>NaN</td>\n",
              "      <td>[]</td>\n",
              "      <td>raw_recipes</td>\n",
              "      <td>2023-06-17 00:43:04.232004</td>\n",
              "    </tr>\n",
              "    <tr>\n",
              "      <th>2</th>\n",
              "      <td>422389</td>\n",
              "      <td>greek yogurt dessert with honey and strawberries</td>\n",
              "      <td>healthy and low fat.</td>\n",
              "      <td>[greek yogurt, honey, strawberries, nuts]</td>\n",
              "      <td>[11.5, 0.0, 7.0, 0.0, 0.0, 0.0, 0.0]</td>\n",
              "      <td>veg</td>\n",
              "      <td>[honey, dairy]</td>\n",
              "      <td>NaN</td>\n",
              "      <td>NaN</td>\n",
              "      <td>NaN</td>\n",
              "      <td>NaN</td>\n",
              "      <td>NaN</td>\n",
              "      <td>[]</td>\n",
              "      <td>raw_recipes</td>\n",
              "      <td>2023-06-17 00:43:04.232257</td>\n",
              "    </tr>\n",
              "    <tr>\n",
              "      <th>3</th>\n",
              "      <td>427998</td>\n",
              "      <td>greek yogurt pancakes</td>\n",
              "      <td>a recipe posted for zwt - greece.  from the pi...</td>\n",
              "      <td>[greek yogurt, all-purpose flour, sugar, bakin...</td>\n",
              "      <td>[32.6, 1.0, 4.0, 5.0, 3.0, 1.0, 1.0]</td>\n",
              "      <td>non-veg</td>\n",
              "      <td>[gluten, poultry, sugar, dairy]</td>\n",
              "      <td>NaN</td>\n",
              "      <td>NaN</td>\n",
              "      <td>NaN</td>\n",
              "      <td>NaN</td>\n",
              "      <td>NaN</td>\n",
              "      <td>[]</td>\n",
              "      <td>raw_recipes</td>\n",
              "      <td>2023-06-17 00:43:04.232513</td>\n",
              "    </tr>\n",
              "    <tr>\n",
              "      <th>4</th>\n",
              "      <td>293735</td>\n",
              "      <td>greek yogurt parfait</td>\n",
              "      <td>if you're not worried about going vegan, the s...</td>\n",
              "      <td>[soy yogurt, vanilla extract, honey, clementin...</td>\n",
              "      <td>[310.8, 6.0, 215.0, 0.0, 11.0, 2.0, 23.0]</td>\n",
              "      <td>veg</td>\n",
              "      <td>[honey, soy, dairy]</td>\n",
              "      <td>NaN</td>\n",
              "      <td>NaN</td>\n",
              "      <td>NaN</td>\n",
              "      <td>NaN</td>\n",
              "      <td>NaN</td>\n",
              "      <td>[]</td>\n",
              "      <td>raw_recipes</td>\n",
              "      <td>2023-06-17 00:43:04.232770</td>\n",
              "    </tr>\n",
              "  </tbody>\n",
              "</table>\n",
              "</div>"
            ],
            "text/plain": [
              "   food_id                                         food_name  \\\n",
              "0    87867               greek yogurt cake with raisin syrup   \n",
              "1   507638                              greek yogurt chicken   \n",
              "2   422389  greek yogurt dessert with honey and strawberries   \n",
              "3   427998                             greek yogurt pancakes   \n",
              "4   293735                              greek yogurt parfait   \n",
              "\n",
              "                                    food_description  \\\n",
              "0  this is a fabulous greek cake. you wont regret...   \n",
              "1          hubby brought this recipe home from work.   \n",
              "2                               healthy and low fat.   \n",
              "3  a recipe posted for zwt - greece.  from the pi...   \n",
              "4  if you're not worried about going vegan, the s...   \n",
              "\n",
              "                                         ingredients  \\\n",
              "0  [raisins, brandy, ouzo, lemon juice, water, su...   \n",
              "1  [chicken breasts, parmesan cheese, breadcrumbs...   \n",
              "2          [greek yogurt, honey, strawberries, nuts]   \n",
              "3  [greek yogurt, all-purpose flour, sugar, bakin...   \n",
              "4  [soy yogurt, vanilla extract, honey, clementin...   \n",
              "\n",
              "                                           nutrition veg_or_non_veg  \\\n",
              "0  [3665.2, 142.0, 1533.0, 83.0, 115.0, 252.0, 20...        non-veg   \n",
              "1          [358.2, 27.0, 3.0, 15.0, 73.0, 30.0, 3.0]        non-veg   \n",
              "2               [11.5, 0.0, 7.0, 0.0, 0.0, 0.0, 0.0]            veg   \n",
              "3               [32.6, 1.0, 4.0, 5.0, 3.0, 1.0, 1.0]        non-veg   \n",
              "4          [310.8, 6.0, 215.0, 0.0, 11.0, 2.0, 23.0]            veg   \n",
              "\n",
              "                                           allergies cuisine course diet  \\\n",
              "0  [citrus, honey, milk, lactose, poultry, sugar,...     NaN    NaN  NaN   \n",
              "1                    [milk, lactose, poultry, dairy]     NaN    NaN  NaN   \n",
              "2                                     [honey, dairy]     NaN    NaN  NaN   \n",
              "3                    [gluten, poultry, sugar, dairy]     NaN    NaN  NaN   \n",
              "4                                [honey, soy, dairy]     NaN    NaN  NaN   \n",
              "\n",
              "  state region seasons  data_source               created_time  \n",
              "0   NaN    NaN      []  raw_recipes 2023-06-17 00:43:04.231724  \n",
              "1   NaN    NaN      []  raw_recipes 2023-06-17 00:43:04.232004  \n",
              "2   NaN    NaN      []  raw_recipes 2023-06-17 00:43:04.232257  \n",
              "3   NaN    NaN      []  raw_recipes 2023-06-17 00:43:04.232513  \n",
              "4   NaN    NaN      []  raw_recipes 2023-06-17 00:43:04.232770  "
            ]
          },
          "execution_count": 19,
          "metadata": {},
          "output_type": "execute_result"
        }
      ],
      "source": [
        "df_food_data_sql.head()"
      ]
    },
    {
      "cell_type": "code",
      "execution_count": null,
      "id": "57bb0b60",
      "metadata": {
        "id": "57bb0b60",
        "outputId": "b11ae64c-3919-4cc2-f014-59c06836c3d1"
      },
      "outputs": [
        {
          "data": {
            "text/plain": [
              "(238763, 15)"
            ]
          },
          "execution_count": 20,
          "metadata": {},
          "output_type": "execute_result"
        }
      ],
      "source": [
        "df_food_data_sql.shape"
      ]
    },
    {
      "cell_type": "code",
      "execution_count": null,
      "id": "c4612aa4",
      "metadata": {
        "id": "c4612aa4"
      },
      "outputs": [],
      "source": [
        "df_food_data_sql.to_csv(\"food_data_seasons.csv\")"
      ]
    },
    {
      "cell_type": "code",
      "execution_count": null,
      "id": "e38d68b4",
      "metadata": {
        "id": "e38d68b4",
        "outputId": "f0b3f3bd-c529-4610-c8d8-b8b6a89fe155"
      },
      "outputs": [
        {
          "data": {
            "text/plain": [
              "Index(['food_id', 'food_name', 'food_description', 'ingredients', 'nutrition',\n",
              "       'veg_or_non_veg', 'allergies', 'cuisine', 'course', 'diet', 'state',\n",
              "       'region', 'seasons', 'data_source', 'created_time'],\n",
              "      dtype='object')"
            ]
          },
          "execution_count": 22,
          "metadata": {},
          "output_type": "execute_result"
        }
      ],
      "source": [
        "df_food_data_sql.columns"
      ]
    },
    {
      "cell_type": "raw",
      "id": "6dc44fae",
      "metadata": {
        "id": "6dc44fae"
      },
      "source": [
        "# db schema for table: food_data\n",
        "\n",
        "CREATE TABLE public.food_data (\n",
        "\tfood_id integer NULL,\n",
        "\tfood_name text NULL,\n",
        "\tfood_description text NULL,\n",
        "\tingredients varchar(128)[],\n",
        "\tnutrition varchar(16)[],\n",
        "\tveg_or_non_veg varchar(16) NULL,\n",
        "\tallergies varchar(64)[],\n",
        "\tcuisine varchar(256) NULL,\n",
        "\tcourse varchar(128) NULL,\n",
        "\tdiet varchar(128) NULL,\n",
        "\t\"state\" varchar(64) NULL,\n",
        "\tregion varchar(64) NULL,\n",
        "\tseasons varchar(64) NULL,\n",
        "\t\"data_source\" varchar(64) NULL,\n",
        "\tcreated_time timestamp NOT NULL DEFAULT CURRENT_TIMESTAMP,\n",
        "\tCONSTRAINT food_data_pkey PRIMARY KEY (food_id)\n",
        ");\n"
      ]
    },
    {
      "cell_type": "code",
      "execution_count": null,
      "id": "b150b84c",
      "metadata": {
        "id": "b150b84c"
      },
      "outputs": [],
      "source": [
        "# create database connection\n",
        "gbl_db_conn = DatabaseAccess(DB_CONFIG).getConnection()\n",
        "\n",
        "def food_data_save_to_db(item):\n",
        "    global gbl_db_conn\n",
        "    try:\n",
        "        cur = gbl_db_conn.cursor()\n",
        "        cur.execute(\"INSERT INTO public.food_data (food_id, food_name, food_description, ingredients, nutrition, veg_or_non_veg, allergies, cuisine, course, diet, state, region, seasons, data_source) \\\n",
        "                                                VALUES (%s, %s, %s, %s, %s, %s, %s, %s, %s, %s, %s, %s, %s, %s)\", \\\n",
        "                                                (item.food_id, item.food_name, item.food_description, item.ingredients, item.nutrition, item.veg_or_non_veg, item.allergies, item.cuisine, item.course, item.diet, item.state, item.region, item.seasons, item.data_source))\n",
        "        gbl_db_conn.commit()\n",
        "    except (Exception, psycopg2.Error) as error:\n",
        "        print(\"Error inserting data: \", error)\n",
        "    finally:\n",
        "        cur.close()\n",
        "\n",
        "    return"
      ]
    },
    {
      "cell_type": "code",
      "execution_count": null,
      "id": "1947dc50",
      "metadata": {
        "id": "1947dc50"
      },
      "outputs": [],
      "source": [
        "# store all data into DB\n",
        "res = df_food_data_sql.apply(food_data_save_to_db, axis=1)"
      ]
    },
    {
      "cell_type": "code",
      "execution_count": null,
      "id": "6ae9bfe6",
      "metadata": {
        "id": "6ae9bfe6",
        "outputId": "64ca42fd-b95e-463f-8925-4d0cf964f53f"
      },
      "outputs": [
        {
          "name": "stdout",
          "output_type": "stream",
          "text": [
            "(238763, 15)\n"
          ]
        },
        {
          "data": {
            "text/html": [
              "<div>\n",
              "<style scoped>\n",
              "    .dataframe tbody tr th:only-of-type {\n",
              "        vertical-align: middle;\n",
              "    }\n",
              "\n",
              "    .dataframe tbody tr th {\n",
              "        vertical-align: top;\n",
              "    }\n",
              "\n",
              "    .dataframe thead th {\n",
              "        text-align: right;\n",
              "    }\n",
              "</style>\n",
              "<table border=\"1\" class=\"dataframe\">\n",
              "  <thead>\n",
              "    <tr style=\"text-align: right;\">\n",
              "      <th></th>\n",
              "      <th>food_id</th>\n",
              "      <th>food_name</th>\n",
              "      <th>food_description</th>\n",
              "      <th>ingredients</th>\n",
              "      <th>nutrition</th>\n",
              "      <th>veg_or_non_veg</th>\n",
              "      <th>allergies</th>\n",
              "      <th>cuisine</th>\n",
              "      <th>course</th>\n",
              "      <th>diet</th>\n",
              "      <th>state</th>\n",
              "      <th>region</th>\n",
              "      <th>seasons</th>\n",
              "      <th>data_source</th>\n",
              "      <th>created_time</th>\n",
              "    </tr>\n",
              "  </thead>\n",
              "  <tbody>\n",
              "    <tr>\n",
              "      <th>0</th>\n",
              "      <td>87867</td>\n",
              "      <td>greek yogurt cake with raisin syrup</td>\n",
              "      <td>this is a fabulous greek cake. you wont regret...</td>\n",
              "      <td>[raisins, brandy, ouzo, lemon juice, water, su...</td>\n",
              "      <td>[3665.2, 142.0, 1533.0, 83.0, 115.0, 252.0, 20...</td>\n",
              "      <td>non-veg</td>\n",
              "      <td>[citrus, honey, milk, lactose, poultry, sugar,...</td>\n",
              "      <td>NaN</td>\n",
              "      <td>NaN</td>\n",
              "      <td>NaN</td>\n",
              "      <td>NaN</td>\n",
              "      <td>NaN</td>\n",
              "      <td>{}</td>\n",
              "      <td>raw_recipes</td>\n",
              "      <td>2023-06-17 12:08:04.545607</td>\n",
              "    </tr>\n",
              "    <tr>\n",
              "      <th>1</th>\n",
              "      <td>507638</td>\n",
              "      <td>greek yogurt chicken</td>\n",
              "      <td>hubby brought this recipe home from work.</td>\n",
              "      <td>[chicken breasts, parmesan cheese, breadcrumbs...</td>\n",
              "      <td>[358.2, 27.0, 3.0, 15.0, 73.0, 30.0, 3.0]</td>\n",
              "      <td>non-veg</td>\n",
              "      <td>[milk, lactose, poultry, dairy]</td>\n",
              "      <td>NaN</td>\n",
              "      <td>NaN</td>\n",
              "      <td>NaN</td>\n",
              "      <td>NaN</td>\n",
              "      <td>NaN</td>\n",
              "      <td>{}</td>\n",
              "      <td>raw_recipes</td>\n",
              "      <td>2023-06-17 12:08:04.559112</td>\n",
              "    </tr>\n",
              "    <tr>\n",
              "      <th>2</th>\n",
              "      <td>422389</td>\n",
              "      <td>greek yogurt dessert with honey and strawberries</td>\n",
              "      <td>healthy and low fat.</td>\n",
              "      <td>[greek yogurt, honey, strawberries, nuts]</td>\n",
              "      <td>[11.5, 0.0, 7.0, 0.0, 0.0, 0.0, 0.0]</td>\n",
              "      <td>veg</td>\n",
              "      <td>[honey, dairy]</td>\n",
              "      <td>NaN</td>\n",
              "      <td>NaN</td>\n",
              "      <td>NaN</td>\n",
              "      <td>NaN</td>\n",
              "      <td>NaN</td>\n",
              "      <td>{}</td>\n",
              "      <td>raw_recipes</td>\n",
              "      <td>2023-06-17 12:08:04.560659</td>\n",
              "    </tr>\n",
              "    <tr>\n",
              "      <th>3</th>\n",
              "      <td>427998</td>\n",
              "      <td>greek yogurt pancakes</td>\n",
              "      <td>a recipe posted for zwt - greece.  from the pi...</td>\n",
              "      <td>[greek yogurt, all-purpose flour, sugar, bakin...</td>\n",
              "      <td>[32.6, 1.0, 4.0, 5.0, 3.0, 1.0, 1.0]</td>\n",
              "      <td>non-veg</td>\n",
              "      <td>[gluten, poultry, sugar, dairy]</td>\n",
              "      <td>NaN</td>\n",
              "      <td>NaN</td>\n",
              "      <td>NaN</td>\n",
              "      <td>NaN</td>\n",
              "      <td>NaN</td>\n",
              "      <td>{}</td>\n",
              "      <td>raw_recipes</td>\n",
              "      <td>2023-06-17 12:08:04.561593</td>\n",
              "    </tr>\n",
              "    <tr>\n",
              "      <th>4</th>\n",
              "      <td>293735</td>\n",
              "      <td>greek yogurt parfait</td>\n",
              "      <td>if you're not worried about going vegan, the s...</td>\n",
              "      <td>[soy yogurt, vanilla extract, honey, clementin...</td>\n",
              "      <td>[310.8, 6.0, 215.0, 0.0, 11.0, 2.0, 23.0]</td>\n",
              "      <td>veg</td>\n",
              "      <td>[honey, soy, dairy]</td>\n",
              "      <td>NaN</td>\n",
              "      <td>NaN</td>\n",
              "      <td>NaN</td>\n",
              "      <td>NaN</td>\n",
              "      <td>NaN</td>\n",
              "      <td>{}</td>\n",
              "      <td>raw_recipes</td>\n",
              "      <td>2023-06-17 12:08:04.562680</td>\n",
              "    </tr>\n",
              "  </tbody>\n",
              "</table>\n",
              "</div>"
            ],
            "text/plain": [
              "   food_id                                         food_name  \\\n",
              "0    87867               greek yogurt cake with raisin syrup   \n",
              "1   507638                              greek yogurt chicken   \n",
              "2   422389  greek yogurt dessert with honey and strawberries   \n",
              "3   427998                             greek yogurt pancakes   \n",
              "4   293735                              greek yogurt parfait   \n",
              "\n",
              "                                    food_description  \\\n",
              "0  this is a fabulous greek cake. you wont regret...   \n",
              "1          hubby brought this recipe home from work.   \n",
              "2                               healthy and low fat.   \n",
              "3  a recipe posted for zwt - greece.  from the pi...   \n",
              "4  if you're not worried about going vegan, the s...   \n",
              "\n",
              "                                         ingredients  \\\n",
              "0  [raisins, brandy, ouzo, lemon juice, water, su...   \n",
              "1  [chicken breasts, parmesan cheese, breadcrumbs...   \n",
              "2          [greek yogurt, honey, strawberries, nuts]   \n",
              "3  [greek yogurt, all-purpose flour, sugar, bakin...   \n",
              "4  [soy yogurt, vanilla extract, honey, clementin...   \n",
              "\n",
              "                                           nutrition veg_or_non_veg  \\\n",
              "0  [3665.2, 142.0, 1533.0, 83.0, 115.0, 252.0, 20...        non-veg   \n",
              "1          [358.2, 27.0, 3.0, 15.0, 73.0, 30.0, 3.0]        non-veg   \n",
              "2               [11.5, 0.0, 7.0, 0.0, 0.0, 0.0, 0.0]            veg   \n",
              "3               [32.6, 1.0, 4.0, 5.0, 3.0, 1.0, 1.0]        non-veg   \n",
              "4          [310.8, 6.0, 215.0, 0.0, 11.0, 2.0, 23.0]            veg   \n",
              "\n",
              "                                           allergies cuisine course diet  \\\n",
              "0  [citrus, honey, milk, lactose, poultry, sugar,...     NaN    NaN  NaN   \n",
              "1                    [milk, lactose, poultry, dairy]     NaN    NaN  NaN   \n",
              "2                                     [honey, dairy]     NaN    NaN  NaN   \n",
              "3                    [gluten, poultry, sugar, dairy]     NaN    NaN  NaN   \n",
              "4                                [honey, soy, dairy]     NaN    NaN  NaN   \n",
              "\n",
              "  state region seasons  data_source               created_time  \n",
              "0   NaN    NaN      {}  raw_recipes 2023-06-17 12:08:04.545607  \n",
              "1   NaN    NaN      {}  raw_recipes 2023-06-17 12:08:04.559112  \n",
              "2   NaN    NaN      {}  raw_recipes 2023-06-17 12:08:04.560659  \n",
              "3   NaN    NaN      {}  raw_recipes 2023-06-17 12:08:04.561593  \n",
              "4   NaN    NaN      {}  raw_recipes 2023-06-17 12:08:04.562680  "
            ]
          },
          "execution_count": 32,
          "metadata": {},
          "output_type": "execute_result"
        }
      ],
      "source": [
        "# read db and validate stored dataset\n",
        "df_food_data_sql1 = pd.read_sql_query('select * from \"food_data\"',con=gbl_db_conn)\n",
        "print(df_food_data_sql1.shape)\n",
        "df_food_data_sql1.head()"
      ]
    },
    {
      "cell_type": "code",
      "execution_count": null,
      "id": "13608abf",
      "metadata": {
        "id": "13608abf"
      },
      "outputs": [],
      "source": [
        "gbl_db_conn.close()"
      ]
    },
    {
      "cell_type": "code",
      "execution_count": null,
      "id": "7f0ef90d",
      "metadata": {
        "id": "7f0ef90d"
      },
      "outputs": [],
      "source": []
    }
  ],
  "metadata": {
    "kernelspec": {
      "display_name": "Python 3 (ipykernel)",
      "language": "python",
      "name": "python3"
    },
    "language_info": {
      "codemirror_mode": {
        "name": "ipython",
        "version": 3
      },
      "file_extension": ".py",
      "mimetype": "text/x-python",
      "name": "python",
      "nbconvert_exporter": "python",
      "pygments_lexer": "ipython3",
      "version": "3.9.13"
    },
    "colab": {
      "provenance": []
    }
  },
  "nbformat": 4,
  "nbformat_minor": 5
}