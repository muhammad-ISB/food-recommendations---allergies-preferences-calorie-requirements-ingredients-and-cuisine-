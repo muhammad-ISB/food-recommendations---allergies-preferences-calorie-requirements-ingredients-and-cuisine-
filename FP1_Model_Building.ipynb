{
  "cells": [
    {
      "cell_type": "markdown",
      "id": "88a6ae75",
      "metadata": {
        "id": "88a6ae75"
      },
      "source": [
        "# Final Model::  Model Building, Implementation, Testing and Feedback"
      ]
    },
    {
      "cell_type": "code",
      "execution_count": null,
      "id": "3fca9609",
      "metadata": {
        "id": "3fca9609"
      },
      "outputs": [],
      "source": [
        "# Import the necessary Libraries\n",
        "import pandas as pd\n",
        "import numpy as np\n",
        "from sklearn.preprocessing import LabelEncoder\n",
        "from sklearn.preprocessing import StandardScaler\n",
        "from sklearn.cluster import KMeans\n",
        "import matplotlib.pyplot as plt\n",
        "import warnings\n",
        "# Filter and ignore warnings\n",
        "warnings.filterwarnings(\"ignore\")\n",
        "from sklearn.feature_extraction.text import TfidfVectorizer\n",
        "from sklearn.metrics.pairwise import linear_kernel\n",
        "from sklearn.metrics.pairwise import cosine_similarity\n",
        "from sklearn.preprocessing import OneHotEncoder"
      ]
    },
    {
      "cell_type": "code",
      "execution_count": null,
      "id": "68d97854",
      "metadata": {
        "id": "68d97854"
      },
      "outputs": [],
      "source": [
        "# Load the pre-pocessed and cleaned data\n",
        "model_data = pd.read_csv('model_data.csv')"
      ]
    },
    {
      "cell_type": "code",
      "execution_count": null,
      "id": "94c19665",
      "metadata": {
        "id": "94c19665",
        "outputId": "d180674e-e344-41d5-8ae2-d6a9311ee054"
      },
      "outputs": [
        {
          "data": {
            "text/html": [
              "<div>\n",
              "<style scoped>\n",
              "    .dataframe tbody tr th:only-of-type {\n",
              "        vertical-align: middle;\n",
              "    }\n",
              "\n",
              "    .dataframe tbody tr th {\n",
              "        vertical-align: top;\n",
              "    }\n",
              "\n",
              "    .dataframe thead th {\n",
              "        text-align: right;\n",
              "    }\n",
              "</style>\n",
              "<table border=\"1\" class=\"dataframe\">\n",
              "  <thead>\n",
              "    <tr style=\"text-align: right;\">\n",
              "      <th></th>\n",
              "      <th>food_id</th>\n",
              "      <th>food_name</th>\n",
              "      <th>food_description</th>\n",
              "      <th>ingredients</th>\n",
              "      <th>veg_or_non_veg</th>\n",
              "      <th>allergies</th>\n",
              "      <th>seasonal_preference</th>\n",
              "      <th>dietary_restrictions</th>\n",
              "    </tr>\n",
              "  </thead>\n",
              "  <tbody>\n",
              "    <tr>\n",
              "      <th>0</th>\n",
              "      <td>137739</td>\n",
              "      <td>arriba   baked winter squash mexican style</td>\n",
              "      <td>autumn is my favorite time of year to cook! th...</td>\n",
              "      <td>winter squash , mexican seasoning , mixed spic...</td>\n",
              "      <td>veg</td>\n",
              "      <td>honey , milk , lactose , olive , squash , dairy</td>\n",
              "      <td>autumn</td>\n",
              "      <td>low fat, high carb, high caffeine, low lactose</td>\n",
              "    </tr>\n",
              "    <tr>\n",
              "      <th>1</th>\n",
              "      <td>31490</td>\n",
              "      <td>a bit different  breakfast pizza</td>\n",
              "      <td>this recipe calls for the crust to be prebaked...</td>\n",
              "      <td>pizza crust , sausage patty , egg , milk , sa...</td>\n",
              "      <td>non-veg</td>\n",
              "      <td>gluten , milk , lactose , poultry , dairy</td>\n",
              "      <td>none</td>\n",
              "      <td>high fat, low carb, high caffeine, high lactose</td>\n",
              "    </tr>\n",
              "    <tr>\n",
              "      <th>2</th>\n",
              "      <td>112140</td>\n",
              "      <td>all in the kitchen  chili</td>\n",
              "      <td>this modified version of 'mom's' chili was a h...</td>\n",
              "      <td>ground beef , yellow onion ,  tomato , tomato ...</td>\n",
              "      <td>non-veg</td>\n",
              "      <td>ltp , milk , lactose , nightshade , dairy</td>\n",
              "      <td>autumn, winter</td>\n",
              "      <td>high sugar, high fat, high carb, high caffeine...</td>\n",
              "    </tr>\n",
              "    <tr>\n",
              "      <th>3</th>\n",
              "      <td>59389</td>\n",
              "      <td>alouette  potatoes</td>\n",
              "      <td>this is a super easy, great tasting, make ahea...</td>\n",
              "      <td>cheese  garlic and herb ,  potato , shallot ,...</td>\n",
              "      <td>veg</td>\n",
              "      <td>hypersensitivity , milk , lactose , olive , da...</td>\n",
              "      <td>none</td>\n",
              "      <td>medium fat, medium carb, high caffeine</td>\n",
              "    </tr>\n",
              "    <tr>\n",
              "      <th>4</th>\n",
              "      <td>44061</td>\n",
              "      <td>amish  tomato ketchup  for canning</td>\n",
              "      <td>my dh's amish mother raised him on this recipe...</td>\n",
              "      <td>tomato juice , apple cider vinegar , sugar , s...</td>\n",
              "      <td>veg</td>\n",
              "      <td>nightshade , oral , sugar</td>\n",
              "      <td>none</td>\n",
              "      <td>low fat, high carb, high caffeine</td>\n",
              "    </tr>\n",
              "    <tr>\n",
              "      <th>...</th>\n",
              "      <td>...</td>\n",
              "      <td>...</td>\n",
              "      <td>...</td>\n",
              "      <td>...</td>\n",
              "      <td>...</td>\n",
              "      <td>...</td>\n",
              "      <td>...</td>\n",
              "      <td>...</td>\n",
              "    </tr>\n",
              "    <tr>\n",
              "      <th>238758</th>\n",
              "      <td>700250</td>\n",
              "      <td>Til Pitha</td>\n",
              "      <td>NaN</td>\n",
              "      <td>Glutinous rice , black sesame seed , gur</td>\n",
              "      <td>veg</td>\n",
              "      <td>NaN</td>\n",
              "      <td>none</td>\n",
              "      <td>low sugar, low fat, low carb, low caffeine, lo...</td>\n",
              "    </tr>\n",
              "    <tr>\n",
              "      <th>238759</th>\n",
              "      <td>700251</td>\n",
              "      <td>Bebinca</td>\n",
              "      <td>NaN</td>\n",
              "      <td>Coconut milk , egg yolk , clarified butter , a...</td>\n",
              "      <td>veg</td>\n",
              "      <td>milk , lactose , nut , dairy</td>\n",
              "      <td>none</td>\n",
              "      <td>low sugar, low fat, low carb, low caffeine, lo...</td>\n",
              "    </tr>\n",
              "    <tr>\n",
              "      <th>238760</th>\n",
              "      <td>700252</td>\n",
              "      <td>Shufta</td>\n",
              "      <td>NaN</td>\n",
              "      <td>Cottage cheese ,  date ,  rose petal , pistach...</td>\n",
              "      <td>veg</td>\n",
              "      <td>milk , lactose , nut , dairy</td>\n",
              "      <td>none</td>\n",
              "      <td>low sugar, low fat, low carb, low caffeine, lo...</td>\n",
              "    </tr>\n",
              "    <tr>\n",
              "      <th>238761</th>\n",
              "      <td>700253</td>\n",
              "      <td>Mawa Bati</td>\n",
              "      <td>NaN</td>\n",
              "      <td>Milk powder ,  fruit , arrowroot powder , all ...</td>\n",
              "      <td>veg</td>\n",
              "      <td>milk , lactose , dairy</td>\n",
              "      <td>none</td>\n",
              "      <td>low sugar, low fat, low carb, low caffeine, lo...</td>\n",
              "    </tr>\n",
              "    <tr>\n",
              "      <th>238762</th>\n",
              "      <td>700254</td>\n",
              "      <td>Pinaca</td>\n",
              "      <td>NaN</td>\n",
              "      <td>Brown rice , fennel seed , grated coconut , bl...</td>\n",
              "      <td>veg</td>\n",
              "      <td>histamine , nut</td>\n",
              "      <td>none</td>\n",
              "      <td>low sugar, low fat, low carb, low caffeine, lo...</td>\n",
              "    </tr>\n",
              "  </tbody>\n",
              "</table>\n",
              "<p>238763 rows × 8 columns</p>\n",
              "</div>"
            ],
            "text/plain": [
              "        food_id                                   food_name  \\\n",
              "0        137739  arriba   baked winter squash mexican style   \n",
              "1         31490            a bit different  breakfast pizza   \n",
              "2        112140                   all in the kitchen  chili   \n",
              "3         59389                          alouette  potatoes   \n",
              "4         44061          amish  tomato ketchup  for canning   \n",
              "...         ...                                         ...   \n",
              "238758   700250                                   Til Pitha   \n",
              "238759   700251                                     Bebinca   \n",
              "238760   700252                                      Shufta   \n",
              "238761   700253                                   Mawa Bati   \n",
              "238762   700254                                      Pinaca   \n",
              "\n",
              "                                         food_description  \\\n",
              "0       autumn is my favorite time of year to cook! th...   \n",
              "1       this recipe calls for the crust to be prebaked...   \n",
              "2       this modified version of 'mom's' chili was a h...   \n",
              "3       this is a super easy, great tasting, make ahea...   \n",
              "4       my dh's amish mother raised him on this recipe...   \n",
              "...                                                   ...   \n",
              "238758                                                NaN   \n",
              "238759                                                NaN   \n",
              "238760                                                NaN   \n",
              "238761                                                NaN   \n",
              "238762                                                NaN   \n",
              "\n",
              "                                              ingredients veg_or_non_veg  \\\n",
              "0       winter squash , mexican seasoning , mixed spic...            veg   \n",
              "1        pizza crust , sausage patty , egg , milk , sa...        non-veg   \n",
              "2       ground beef , yellow onion ,  tomato , tomato ...        non-veg   \n",
              "3        cheese  garlic and herb ,  potato , shallot ,...            veg   \n",
              "4       tomato juice , apple cider vinegar , sugar , s...            veg   \n",
              "...                                                   ...            ...   \n",
              "238758           Glutinous rice , black sesame seed , gur            veg   \n",
              "238759  Coconut milk , egg yolk , clarified butter , a...            veg   \n",
              "238760  Cottage cheese ,  date ,  rose petal , pistach...            veg   \n",
              "238761  Milk powder ,  fruit , arrowroot powder , all ...            veg   \n",
              "238762  Brown rice , fennel seed , grated coconut , bl...            veg   \n",
              "\n",
              "                                                allergies seasonal_preference  \\\n",
              "0         honey , milk , lactose , olive , squash , dairy              autumn   \n",
              "1               gluten , milk , lactose , poultry , dairy                none   \n",
              "2               ltp , milk , lactose , nightshade , dairy      autumn, winter   \n",
              "3       hypersensitivity , milk , lactose , olive , da...                none   \n",
              "4                               nightshade , oral , sugar                none   \n",
              "...                                                   ...                 ...   \n",
              "238758                                                NaN                none   \n",
              "238759                       milk , lactose , nut , dairy                none   \n",
              "238760                       milk , lactose , nut , dairy                none   \n",
              "238761                             milk , lactose , dairy                none   \n",
              "238762                                    histamine , nut                none   \n",
              "\n",
              "                                     dietary_restrictions  \n",
              "0          low fat, high carb, high caffeine, low lactose  \n",
              "1         high fat, low carb, high caffeine, high lactose  \n",
              "2       high sugar, high fat, high carb, high caffeine...  \n",
              "3                  medium fat, medium carb, high caffeine  \n",
              "4                       low fat, high carb, high caffeine  \n",
              "...                                                   ...  \n",
              "238758  low sugar, low fat, low carb, low caffeine, lo...  \n",
              "238759  low sugar, low fat, low carb, low caffeine, lo...  \n",
              "238760  low sugar, low fat, low carb, low caffeine, lo...  \n",
              "238761  low sugar, low fat, low carb, low caffeine, lo...  \n",
              "238762  low sugar, low fat, low carb, low caffeine, lo...  \n",
              "\n",
              "[238763 rows x 8 columns]"
            ]
          },
          "execution_count": 3,
          "metadata": {},
          "output_type": "execute_result"
        }
      ],
      "source": [
        "model_data"
      ]
    },
    {
      "cell_type": "markdown",
      "id": "1054e110",
      "metadata": {
        "id": "1054e110"
      },
      "source": [
        "## Model Features"
      ]
    },
    {
      "cell_type": "markdown",
      "id": "3d817e5f",
      "metadata": {
        "id": "3d817e5f"
      },
      "source": [
        "**Tolerant Filtering:** Instead of filtering out dishes that don't exactly match the user's dietary restrictions, allergies, or seasonal preference, we have ranked them lower. This way, the user still gets recommendations even if there aren't any dishes that perfectly match their preferences. <br>\n",
        "\n",
        "In this model, we have used scores to rank the food items and the scores carry the weightage of the user preferences. In this model, we have used a pre-defined weightage of each user preferences based on the effect of the preference. As we collect feedback from the user, we can ask the user to rank the importance of each preferences, so that we can map the weightages as per the user defined importances."
      ]
    },
    {
      "cell_type": "markdown",
      "id": "a777f4d7",
      "metadata": {
        "id": "a777f4d7"
      },
      "source": [
        "**Partial Matching:** Instead of requiring an exact match between the user's preferred ingredients and the ingredients in a dish, we have looked for partial matches. For example, if the user prefers dishes with potatoes, we have recommend a dish that contains potatoes even if it also contains other ingredients that the user didn't specify."
      ]
    },
    {
      "cell_type": "markdown",
      "id": "d87a4728",
      "metadata": {
        "id": "d87a4728"
      },
      "source": [
        "**Multiple Preferences:** We have allowed the user to specify multiple preferences for each category. For example, in this model, the user can specify that they like both \"summer\" and \"winter\" dishes, or that they prefer both \"veg\" and \"non-veg\" dishes. According, we have recommended dishes that match any of the user's preferences."
      ]
    },
    {
      "cell_type": "markdown",
      "id": "9e3c24fc",
      "metadata": {
        "id": "9e3c24fc"
      },
      "source": [
        "**Adjustable Importance of Each Category:** Instead of treating each category (e.g., dietary restrictions, allergies, seasonal preference, veg/non-veg) equally, we have assigned the wightages to each category based on the effect of the user preference. For example, the model automatically gives higher importance for dietary restrictions and allergies as it may have adverse effect if the conditions are not met, but low importance for seasonal preference if the other conditions are met. Accordingly, we have given more weightage to dietary restrictions, allergy and lesser weight to seasonal preference when ranking dishes. <br>\n",
        "\n",
        "Based on the user feedback, we can give an added feature in the app asking the user to rate the importance of each preference and we can assign the imporatance to the weightage of the respective user preferences and similarity scores."
      ]
    },
    {
      "cell_type": "markdown",
      "id": "5f56519b",
      "metadata": {
        "id": "5f56519b"
      },
      "source": [
        "**Alternative Similarity Measure:** Instead of using cosine similarity based solely on 'ingredients', we have included other factors in our similarity measure, such as 'dietary_restrictions' and 'seasonal preference'. For example, two dishes could be considered similar if they have similar ingredients and also meet similar dietary restrictions."
      ]
    },
    {
      "cell_type": "markdown",
      "id": "d1ce7cb2",
      "metadata": {
        "id": "d1ce7cb2"
      },
      "source": [
        "## Define the Food Recommendation Function"
      ]
    },
    {
      "cell_type": "code",
      "execution_count": null,
      "id": "13799931",
      "metadata": {
        "id": "13799931"
      },
      "outputs": [],
      "source": [
        "def convert_to_string(lst):\n",
        "    return ', '.join(lst)\n",
        "\n",
        "model_data['combined'] = model_data['ingredients'].fillna('') + ', ' + \\\n",
        "                         model_data['dietary_restrictions'].apply(convert_to_string) + ', ' + \\\n",
        "                         model_data['seasonal_preference'].apply(convert_to_string)\n",
        "\n",
        "def recommend_food(user_input):\n",
        "    # Create a score for each dish\n",
        "    scores = np.zeros(len(model_data))\n",
        "\n",
        "    # Give score to dishes that match veg_or_non_veg preference (high importance)\n",
        "    for pref in user_input['veg_or_non_veg']:\n",
        "        scores[model_data[\"veg_or_non_veg\"].isin([pref])] += 2\n",
        "\n",
        "    # Deduct score for dishes that contain ingredients user is allergic to (high importance)\n",
        "    for allergen in user_input['allergies']:\n",
        "        scores[model_data['allergies'].fillna('').str.contains(allergen).values] -= 3\n",
        "\n",
        "    # Give score to dishes that match dietary restrictions (high importance)\n",
        "    for diet in user_input['dietary_restrictions']:\n",
        "        scores[model_data[\"dietary_restrictions\"].isin([diet])] += 3\n",
        "\n",
        "    # Give score to dishes that match seasonal preference (medium importance)\n",
        "    for season in user_input['seasonal_preference']:\n",
        "        scores[model_data[\"seasonal_preference\"].isin([season])] += 0.5\n",
        "\n",
        "    # Use TF-IDF to vectorize the combined field\n",
        "    tfidf = TfidfVectorizer(stop_words='english')\n",
        "    tfidf_matrix = tfidf.fit_transform(model_data['combined'])\n",
        "\n",
        "    # Vectorize user's combined preference\n",
        "    user_pref_vector = tfidf.transform([user_input['combined']])\n",
        "\n",
        "    # Calculate cosine similarity and add to scores\n",
        "    cosine_similarities = linear_kernel(user_pref_vector, tfidf_matrix).flatten()\n",
        "\n",
        "    scores += cosine_similarities\n",
        "\n",
        "    # Get top 5 highest scoring dishes\n",
        "    top_5_indices = scores.argsort()[:-6:-1]\n",
        "\n",
        "    # Get corresponding cosine similarity scores\n",
        "    top_5_scores = cosine_similarities[top_5_indices]\n",
        "\n",
        "    # Return names of the dishes and their scores\n",
        "    return model_data.iloc[top_5_indices]['food_name'], top_5_scores\n"
      ]
    },
    {
      "cell_type": "markdown",
      "id": "95b683e8",
      "metadata": {
        "id": "95b683e8"
      },
      "source": [
        "## Model Recommendation Basis the User Inputs"
      ]
    },
    {
      "cell_type": "code",
      "execution_count": null,
      "id": "2b12e392",
      "metadata": {
        "id": "2b12e392",
        "outputId": "56d16b62-f3e2-4c06-f1f1-3ab25075445d"
      },
      "outputs": [
        {
          "name": "stdout",
          "output_type": "stream",
          "text": [
            "Please enter your preference (veg/non-veg) (separated by comma): veg\n",
            "Please enter your seasonal preference (separated by comma): winter\n",
            "Please enter your allergies (separated by comma): dairy\n",
            "Please enter your dietary restrictions (separated by comma): nut\n",
            "Please enter your preferred ingredients (separated by comma): rice\n",
            "\n",
            "Top five food recommendations for you:\n",
            "1. baked winter squash  au gratin with a score of 0.37962830263718395\n",
            "2. dr  oz s 2 week rapid weight loss plan  vegetable broth with a score of 0.36635345206234265\n",
            "3. foolproof  brown rice with a score of 0.20608058894263126\n",
            "4. bud s spicy nuts with a score of 0.16302320212970264\n",
            "5. ginger apple dessert with a score of 0.1553962101532634\n"
          ]
        }
      ],
      "source": [
        "# User inputs\n",
        "veg_or_non_veg = input(\"Please enter your preference (veg/non-veg) (separated by comma): \").split(\", \")\n",
        "seasonal_preference = input(\"Please enter your seasonal preference (separated by comma): \").split(\", \")\n",
        "allergies = input(\"Please enter your allergies (separated by comma): \").split(\", \")\n",
        "dietary_restrictions = input(\"Please enter your dietary restrictions (separated by comma): \").split(\", \")\n",
        "ingredients = input(\"Please enter your preferred ingredients (separated by comma): \")\n",
        "\n",
        "user_input = {\n",
        "    'veg_or_non_veg': veg_or_non_veg,\n",
        "    'seasonal_preference': seasonal_preference,\n",
        "    'allergies': allergies,\n",
        "    'dietary_restrictions': dietary_restrictions,\n",
        "    'ingredients': ingredients,\n",
        "    'combined': ingredients + ', ' + ', '.join(dietary_restrictions) + ', ' + ', '.join(seasonal_preference)\n",
        "}\n",
        "\n",
        "recommendations, scores = recommend_food(user_input)\n",
        "print(\"\\nTop five food recommendations for you:\")\n",
        "for i in range(5):\n",
        "    print(f\"{i+1}. {recommendations.iloc[i]} with a score of {scores[i]}\")\n"
      ]
    },
    {
      "cell_type": "code",
      "execution_count": null,
      "id": "cb731dce",
      "metadata": {
        "id": "cb731dce",
        "outputId": "af4e8be9-a348-4784-f2bc-a848e868ebf4"
      },
      "outputs": [
        {
          "data": {
            "text/plain": [
              "{'veg_or_non_veg': ['veg'],\n",
              " 'seasonal_preference': ['winter'],\n",
              " 'allergies': ['dairy'],\n",
              " 'dietary_restrictions': ['nut'],\n",
              " 'ingredients': 'rice',\n",
              " 'combined': 'rice, nut, winter'}"
            ]
          },
          "execution_count": 6,
          "metadata": {},
          "output_type": "execute_result"
        }
      ],
      "source": [
        "user_input"
      ]
    },
    {
      "cell_type": "markdown",
      "id": "0f9fae08",
      "metadata": {
        "id": "0f9fae08"
      },
      "source": [
        "### Feedback Loop: After recommending dishes to the user, we will ask them for feedback on the recommendations. Did they like the dishes? Why or why not? We can use this feedback to improve future recommendations for the user."
      ]
    },
    {
      "cell_type": "code",
      "execution_count": null,
      "id": "e1ecfc33",
      "metadata": {
        "id": "e1ecfc33",
        "outputId": "8775fd32-a52b-4f7e-f811-06ca757ae2ad"
      },
      "outputs": [
        {
          "name": "stdout",
          "output_type": "stream",
          "text": [
            "1. moroccan pork casserole with a cosine similarity of 0.15535451071260567\n",
            "Did you like the dish moroccan pork casserole? (yes/no): no\n",
            "Why did you or did you not like the dish?: did not match my dietary preference\n",
            "2. chicken or turkey breast lunchmeat with a cosine similarity of 0.0792157622143917\n",
            "Did you like the dish chicken or turkey breast lunchmeat? (yes/no): yes\n",
            "Why did you or did you not like the dish?: matched my dietary preference\n",
            "3. cashew chicken stir fry with a cosine similarity of 0.07010531292979737\n",
            "Did you like the dish cashew chicken stir fry? (yes/no): yes\n",
            "Why did you or did you not like the dish?: matched my dietary preference\n",
            "4. lemony pad thai with a cosine similarity of 0.06780757208881762\n",
            "Did you like the dish lemony pad thai? (yes/no): no\n",
            "Why did you or did you not like the dish?: did not match my veg_nonveg preference\n",
            "5. easy seafood stew with a cosine similarity of 0.06495643442193061\n",
            "Did you like the dish easy seafood stew? (yes/no): yes\n",
            "Why did you or did you not like the dish?: matched my food preference\n"
          ]
        }
      ],
      "source": [
        "user_feedback = {}\n",
        "\n",
        "for i in range(5):\n",
        "    dish_name = recommendations.iloc[i]\n",
        "    score = scores[i]\n",
        "\n",
        "    print(f\"{i+1}. {dish_name} with a cosine similarity of {score}\")\n",
        "\n",
        "    like = input(f\"Did you like the dish {dish_name}? (yes/no): \")\n",
        "    reason = input(\"Why did you or did you not like the dish?: \")\n",
        "\n",
        "    user_feedback[dish_name] = {'like': like, 'reason': reason}\n"
      ]
    },
    {
      "cell_type": "code",
      "execution_count": null,
      "id": "4110debb",
      "metadata": {
        "id": "4110debb",
        "outputId": "1056906c-46de-4184-e953-be2022db10a1"
      },
      "outputs": [
        {
          "data": {
            "text/html": [
              "<div>\n",
              "<style scoped>\n",
              "    .dataframe tbody tr th:only-of-type {\n",
              "        vertical-align: middle;\n",
              "    }\n",
              "\n",
              "    .dataframe tbody tr th {\n",
              "        vertical-align: top;\n",
              "    }\n",
              "\n",
              "    .dataframe thead th {\n",
              "        text-align: right;\n",
              "    }\n",
              "</style>\n",
              "<table border=\"1\" class=\"dataframe\">\n",
              "  <thead>\n",
              "    <tr style=\"text-align: right;\">\n",
              "      <th></th>\n",
              "      <th>like</th>\n",
              "      <th>reason</th>\n",
              "    </tr>\n",
              "  </thead>\n",
              "  <tbody>\n",
              "    <tr>\n",
              "      <th>moroccan pork casserole</th>\n",
              "      <td>no</td>\n",
              "      <td>did not match my dietary preference</td>\n",
              "    </tr>\n",
              "    <tr>\n",
              "      <th>chicken or turkey breast lunchmeat</th>\n",
              "      <td>yes</td>\n",
              "      <td>matched my dietary preference</td>\n",
              "    </tr>\n",
              "    <tr>\n",
              "      <th>cashew chicken stir fry</th>\n",
              "      <td>yes</td>\n",
              "      <td>matched my dietary preference</td>\n",
              "    </tr>\n",
              "    <tr>\n",
              "      <th>lemony pad thai</th>\n",
              "      <td>no</td>\n",
              "      <td>did not match my veg_nonveg preference</td>\n",
              "    </tr>\n",
              "    <tr>\n",
              "      <th>easy seafood stew</th>\n",
              "      <td>yes</td>\n",
              "      <td>matched my food preference</td>\n",
              "    </tr>\n",
              "  </tbody>\n",
              "</table>\n",
              "</div>"
            ],
            "text/plain": [
              "                                   like  \\\n",
              "moroccan pork casserole              no   \n",
              "chicken or turkey breast lunchmeat  yes   \n",
              "cashew chicken stir fry             yes   \n",
              "lemony pad thai                      no   \n",
              "easy seafood stew                   yes   \n",
              "\n",
              "                                                                    reason  \n",
              "moroccan pork casserole                did not match my dietary preference  \n",
              "chicken or turkey breast lunchmeat           matched my dietary preference  \n",
              "cashew chicken stir fry                      matched my dietary preference  \n",
              "lemony pad thai                     did not match my veg_nonveg preference  \n",
              "easy seafood stew                               matched my food preference  "
            ]
          },
          "execution_count": 18,
          "metadata": {},
          "output_type": "execute_result"
        }
      ],
      "source": [
        "# Convert to DataFrame\n",
        "user_feedback_df = pd.DataFrame(user_feedback)\n",
        "\n",
        "user_feedback_df.T"
      ]
    },
    {
      "cell_type": "markdown",
      "id": "9d37ce01",
      "metadata": {
        "id": "9d37ce01"
      },
      "source": [
        "### Model Performance evaluation"
      ]
    },
    {
      "cell_type": "code",
      "execution_count": null,
      "id": "75f070ac",
      "metadata": {
        "id": "75f070ac",
        "outputId": "63f2f947-fa98-4a49-bfc1-ef52324192ca"
      },
      "outputs": [
        {
          "name": "stdout",
          "output_type": "stream",
          "text": [
            "Model Precision:  0.6\n"
          ]
        }
      ],
      "source": [
        "# Convert feedback to DataFrame\n",
        "user_feedback_df = pd.DataFrame({\n",
        "    'like': ['no', 'yes', 'yes', 'no', 'yes'],\n",
        "    'reason': ['did not match my dietary preference', 'matched my dietary preference', 'matched my dietary preference', 'did not match my veg_nonveg preference', 'matched my food preference'],\n",
        "    'recommendation': ['moroccan pork casserole', 'chicken or turkey breast lunchmeat', 'cashew chicken stir fry', 'lemony pad thai', 'easy seafood stew']\n",
        "})\n",
        "\n",
        "# Define true positives and false positives\n",
        "TP = sum(user_feedback_df['like'] == 'yes')  # user liked the recommended dishes\n",
        "FP = sum(user_feedback_df['like'] == 'no')   # user didn't like the recommended dishes\n",
        "\n",
        "# Calculate precision\n",
        "precision = TP / (TP + FP)\n",
        "\n",
        "print('Model Precision: ', precision)"
      ]
    },
    {
      "cell_type": "code",
      "execution_count": null,
      "id": "aad7dbd8",
      "metadata": {
        "id": "aad7dbd8"
      },
      "outputs": [],
      "source": []
    },
    {
      "cell_type": "code",
      "execution_count": null,
      "id": "31967cf4",
      "metadata": {
        "id": "31967cf4"
      },
      "outputs": [],
      "source": []
    }
  ],
  "metadata": {
    "kernelspec": {
      "display_name": "Python 3 (ipykernel)",
      "language": "python",
      "name": "python3"
    },
    "language_info": {
      "codemirror_mode": {
        "name": "ipython",
        "version": 3
      },
      "file_extension": ".py",
      "mimetype": "text/x-python",
      "name": "python",
      "nbconvert_exporter": "python",
      "pygments_lexer": "ipython3",
      "version": "3.9.13"
    },
    "colab": {
      "provenance": []
    }
  },
  "nbformat": 4,
  "nbformat_minor": 5
}