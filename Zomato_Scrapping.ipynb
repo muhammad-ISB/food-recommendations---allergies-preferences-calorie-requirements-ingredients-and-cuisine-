{
 "cells": [
  {
   "cell_type": "code",
   "execution_count": 1,
   "id": "b0bdce1e",
   "metadata": {},
   "outputs": [
    {
     "name": "stderr",
     "output_type": "stream",
     "text": [
      "C:\\Users\\ashra\\anaconda3\\lib\\site-packages\\numpy\\_distributor_init.py:30: UserWarning: loaded more than 1 DLL from .libs:\n",
      "C:\\Users\\ashra\\anaconda3\\lib\\site-packages\\numpy\\.libs\\libopenblas.FB5AE2TYXYH2IJRDKGDGQ3XBKLKTF43H.gfortran-win_amd64.dll\n",
      "C:\\Users\\ashra\\anaconda3\\lib\\site-packages\\numpy\\.libs\\libopenblas64__v0.3.21-gcc_10_3_0.dll\n",
      "  warnings.warn(\"loaded more than 1 DLL from .libs:\"\n"
     ]
    }
   ],
   "source": [
    "import pandas as pd\n",
    "import numpy as np\n",
    "import requests\n",
    "from bs4 import BeautifulSoup as bs"
   ]
  },
  {
   "cell_type": "code",
   "execution_count": 2,
   "id": "3fadfd8e",
   "metadata": {},
   "outputs": [
    {
     "data": {
      "text/plain": [
       "<Response [200]>"
      ]
     },
     "execution_count": 2,
     "metadata": {},
     "output_type": "execute_result"
    }
   ],
   "source": [
    "Header = {'User-Agent': 'Mozilla/5.0 (Windows NT 10.0; Win64; x64) AppleWebKit/537.36 (KHTML, like Gecko) Chrome/113.0.0.0 Safari/537.36',\n",
    "       'Accept': 'text/html,application/xhtml+xml,application/xml;q=0.9,*/*;q=0.8',\n",
    "       'Accept-Charset': 'ISO-8859-1,utf-8;q=0.7,*;q=0.3',\n",
    "       'Accept-Encoding': 'none',\n",
    "       'Accept-Language': 'en-US,en;q=0.8',\n",
    "       'Accept': 'text/html,application/xhtml+xml,application/xml;q=0.9,*/*;q=0.8',\n",
    "       'Connection': 'keep-alive'}\n",
    "\n",
    "zomato_page = requests.get('https://www.zomato.com/hyderabad',headers=Header)\n",
    "soup = bs(zomato_page.content,'html.parser')\n",
    "zomato_page"
   ]
  },
  {
   "cell_type": "code",
   "execution_count": 3,
   "id": "23bd4cd3",
   "metadata": {},
   "outputs": [],
   "source": [
    "URL_list=[]\n",
    "hotel_name =[]\n",
    "Rating =[]\n",
    "Cuisine_type=[]\n",
    "price_for_one=[]\n",
    "orders_placed=[]\n",
    "#<a href=\"/hyderabad/hotel-nakshatra-inn-kothapet/order\" class=\"sc-eFTCDY bLyCCN\">"
   ]
  },
  {
   "cell_type": "code",
   "execution_count": 5,
   "id": "4fd30b67",
   "metadata": {},
   "outputs": [],
   "source": [
    "container = soup.find('div' , class_='jumbo-tracker')##sc-cVxdjG dkedrC\n",
    "href_block = container.find_all(\"a\" , class_=\"sc-eFTCDY bLyCCN\")\n",
    "for i in href_block:\n",
    "        href = 'https://www.zomato.com/hyderabad'+i['href']\n",
    "        URL_list.append(href)\n",
    "        hotel_name = container.find(\"h4\" , class_=\"sc-1hp8d8a-0 sc-imDdex fdjWVR\").text.strip()\n",
    "        Rating= container.find(\"div\" , class_=\"sc-1q7bklc-1 cILgox\").text.strip()\n",
    "        Hotel_food_type = container.find(\"p\", class_= \"sc-1hez2tp-0 sc-lCmQh gdSpaT\").text.strip()\n",
    "        price_for_one = container.find(\"p\", class_= \"sc-1hez2tp-0 sc-lffWgi liHDRm\").text.strip()\n",
    "        orders_placed = container.find(\"p\", class_= \"sc-1hez2tp-0 sc-jFpLkX ehsUSs\").text.strip() "
   ]
  },
  {
   "cell_type": "code",
   "execution_count": 6,
   "id": "a4d51ce5",
   "metadata": {},
   "outputs": [
    {
     "data": {
      "text/html": [
       "<div>\n",
       "<style scoped>\n",
       "    .dataframe tbody tr th:only-of-type {\n",
       "        vertical-align: middle;\n",
       "    }\n",
       "\n",
       "    .dataframe tbody tr th {\n",
       "        vertical-align: top;\n",
       "    }\n",
       "\n",
       "    .dataframe thead th {\n",
       "        text-align: right;\n",
       "    }\n",
       "</style>\n",
       "<table border=\"1\" class=\"dataframe\">\n",
       "  <thead>\n",
       "    <tr style=\"text-align: right;\">\n",
       "      <th></th>\n",
       "      <th>Hotel_Name</th>\n",
       "      <th>URL</th>\n",
       "      <th>Rating</th>\n",
       "      <th>Cuisine_type</th>\n",
       "      <th>price_for_one</th>\n",
       "      <th>No_orders_placed</th>\n",
       "    </tr>\n",
       "  </thead>\n",
       "  <tbody>\n",
       "  </tbody>\n",
       "</table>\n",
       "</div>"
      ],
      "text/plain": [
       "Empty DataFrame\n",
       "Columns: [Hotel_Name, URL, Rating, Cuisine_type, price_for_one, No_orders_placed]\n",
       "Index: []"
      ]
     },
     "execution_count": 6,
     "metadata": {},
     "output_type": "execute_result"
    }
   ],
   "source": [
    "Restuarant_overview =pd.DataFrame(list(zip(hotel_name,URL_list,Rating,Cuisine_type,price_for_one,orders_placed)) ,columns=['Hotel_Name','URL','Rating','Cuisine_type','price_for_one','No_orders_placed'])\n",
    "Restuarant_overview"
   ]
  },
  {
   "cell_type": "code",
   "execution_count": null,
   "id": "96526640",
   "metadata": {},
   "outputs": [],
   "source": []
  }
 ],
 "metadata": {
  "kernelspec": {
   "display_name": "Python 3 (ipykernel)",
   "language": "python",
   "name": "python3"
  },
  "language_info": {
   "codemirror_mode": {
    "name": "ipython",
    "version": 3
   },
   "file_extension": ".py",
   "mimetype": "text/x-python",
   "name": "python",
   "nbconvert_exporter": "python",
   "pygments_lexer": "ipython3",
   "version": "3.10.11"
  }
 },
 "nbformat": 4,
 "nbformat_minor": 5
}
